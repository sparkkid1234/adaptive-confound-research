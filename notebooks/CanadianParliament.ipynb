{
 "cells": [
  {
   "cell_type": "markdown",
   "metadata": {
    "deletable": true,
    "editable": true
   },
   "source": [
    "# Canadian Parliament data\n",
    "\n",
    "In this notebook, we use the data from the 36th and 39th parliament from [Hirst et al.](ftp://learning.cs.toronto.edu/dist/gh/Hirst-etal-2010-JADT.pdf) and focus on building a robust classifier using the backdoor adjustment method.\n",
    "\n",
    "For more details concerning the different parliaments, see the [List of Canadian federal parliaments](http://en.wikipedia.org/wiki/List_of_Canadian_federal_parliaments)."
   ]
  },
  {
   "cell_type": "markdown",
   "metadata": {
    "deletable": true,
    "editable": true
   },
   "source": [
    "## Imports"
   ]
  },
  {
   "cell_type": "code",
   "execution_count": 2,
   "metadata": {
    "collapsed": false,
    "deletable": true,
    "editable": true
   },
   "outputs": [],
   "source": [
    "import glob\n",
    "import sys\n",
    "import re\n",
    "from collections import defaultdict\n",
    "from bs4 import BeautifulSoup\n",
    "import numpy as np\n",
    "import matplotlib.pyplot as plt\n",
    "from scipy import sparse\n",
    "from scipy.stats import pearsonr, sem\n",
    "\n",
    "import seaborn as sns\n",
    "sns.set_context('paper')\n",
    "sns.set_style('whitegrid')\n",
    "\n",
    "from sklearn.feature_extraction.text import TfidfVectorizer\n",
    "from sklearn.feature_selection import SelectKBest\n",
    "from sklearn.pipeline import Pipeline\n",
    "from sklearn import preprocessing\n",
    "from sklearn import linear_model\n",
    "from sklearn import svm\n",
    "from sklearn import metrics\n",
    "from tqdm import tqdm\n",
    "%matplotlib inline\n",
    "%config InlineBackend.figure_format = 'retina'\n"
   ]
  },
  {
   "cell_type": "code",
   "execution_count": 3,
   "metadata": {},
   "outputs": [
    {
     "name": "stderr",
     "output_type": "stream",
     "text": [
      "Using TensorFlow backend.\n",
      "/home/virgile/.conda/envs/py36/lib/python3.6/importlib/_bootstrap.py:219: RuntimeWarning: compiletime version 3.5 of module 'tensorflow.python.framework.fast_tensor_util' does not match runtime version 3.6\n",
      "  return f(*args, **kwds)\n"
     ]
    }
   ],
   "source": [
    "import os\n",
    "import sys\n",
    "from collections import Counter, defaultdict\n",
    "module_path = os.path.abspath(os.path.join('../'))\n",
    "if module_path not in sys.path:\n",
    "    sys.path.append(module_path)\n",
    "    \n",
    "import adaptive_confound.control as acc\n",
    "import adaptive_confound.utils as acu\n",
    "import adaptive_confound.topic_model as actm\n",
    "import adaptive_confound.confound_detection as accd"
   ]
  },
  {
   "cell_type": "markdown",
   "metadata": {
    "deletable": true,
    "editable": true
   },
   "source": [
    "## Load data"
   ]
  },
  {
   "cell_type": "code",
   "execution_count": 4,
   "metadata": {
    "collapsed": false,
    "deletable": true,
    "editable": true
   },
   "outputs": [],
   "source": [
    "def lazy_file_load(dir_path, file_regex, n=None, encoding='utf-8'):\n",
    "    file_path_list = sorted(glob.glob(dir_path + file_regex))\n",
    "    l = len(file_path_list)\n",
    "    _n = l if n == None or n > l else n\n",
    "    num = 0\n",
    "    while num < _n:\n",
    "        with open(file_path_list[num], encoding=encoding) as fd:\n",
    "            c = fd.read()\n",
    "            yield c\n",
    "            num += 1\n",
    "            \n",
    "party_translation = {\n",
    "    'Ref':'Conservative', 'PC':'Conservative', 'CPC':'Conservative',\n",
    "    'Lib': 'Liberal'\n",
    "}\n",
    "#     'Ignore': ['BQ', 'NDP', 'NPD', 'Canadian Nuclear Safety Commission',\n",
    "#                'Directorate of Nuclear Cycle and Facilities Regulation',\n",
    "#                'Ind. Cons', 'Bloc Quebecois', 'Ind']\n",
    "\n",
    "def hansard_txt(dir_path='/data/1/virgile/hansard/36/', lang='e', n=None, ignore_alt_parties=True):\n",
    "    regex_speaker = re.compile(r'(Mr\\.|Mrs\\.|Ms\\.|Hon\\.|The)([^\\(:]*)(\\((.+),(.+)\\))?:$')\n",
    "    regex_topic = re.compile(r'^([A-Z]{2,} +)+$')\n",
    "    regex_comment = re.compile(r'^\\([^\\(]{4,}\\)')\n",
    "\n",
    "    name2party = defaultdict(set)\n",
    "    party2names = defaultdict(set)\n",
    "    content = defaultdict(list)\n",
    "\n",
    "    topics = []\n",
    "    for i, h in tqdm(enumerate(lazy_file_load(dir_path, '/*'+lang, n, \"ISO-8859-1\"))):\n",
    "        h = h.split('HOUSE OF COMMONS')[1] # remove header\n",
    "        lines = h.split('\\n') # split on linefeed\n",
    "        match_comment_idx = set([i for i, l in enumerate(lines) if regex_comment.match(l)])\n",
    "        match_topic_idx = set([i for i, l in enumerate(lines) if regex_topic.match(l)])\n",
    "        # remove comments, topics, and topic separations characters\n",
    "        cond_del = lambda i: i in match_comment_idx or i in match_topic_idx or lines[i].strip() == '* * *'\n",
    "        new_lines = [l for i,l in enumerate(lines) if not cond_del(i)]\n",
    "        lines = new_lines\n",
    "        match_speaker_tuples = [(i, regex_speaker.match(l)) for i, l in enumerate(lines) if regex_speaker.match(l)]\n",
    "        for j, m in enumerate(match_speaker_tuples):\n",
    "            prefix = m[1].group(1).strip()\n",
    "            name = m[1].group(2).strip()\n",
    "            n = ' '.join([prefix, name])\n",
    "            if j+1 < len(match_speaker_tuples): # there is a next element\n",
    "                next_m = match_speaker_tuples[j+1]\n",
    "                content[n].extend(lines[m[0]+1:next_m[0]])\n",
    "            else:\n",
    "                content[n].extend(lines[m[0]+1:])\n",
    "            if m[1].group(5) is not None:\n",
    "                p = m[1].group(5).strip().strip('.')\n",
    "                p = party_translation.get(p, 'Ignore')\n",
    "                if not ignore_alt_parties or p != 'Ignore':\n",
    "                    party2names[p].add(n)\n",
    "                    name2party[n].add(p)\n",
    "                else:\n",
    "                    del content[n]\n",
    "    return name2party, party2names, content        \n",
    "    \n",
    "def hansard_xml(dir_path, n=None,  ignore_alt_parties=True):\n",
    "    regex_speaker = re.compile(r'(Mr\\.|Mrs\\.|Ms\\.|Hon\\.)([^\\(]+)\\((.+),(.+)\\)')\n",
    "    \n",
    "    name2party = defaultdict(set)\n",
    "    party2names = defaultdict(set)\n",
    "    content = defaultdict(list)\n",
    "    \n",
    "    for i, h in tqdm(enumerate(lazy_file_load(dir_path, '/*', n))):\n",
    "        soup = BeautifulSoup(h, 'lxml')\n",
    "        interventions = soup.find_all('intervention', type='Debate')\n",
    "        for intervention in interventions:\n",
    "            title = intervention.personspeaking.affiliation.string\n",
    "            if title:\n",
    "                m = regex_speaker.match(title)\n",
    "                if m:\n",
    "                    prefix = m.group(1).strip()\n",
    "                    name = m.group(2).strip()\n",
    "                    n = ' '.join([prefix, name])\n",
    "                    p = m.group(4).strip().strip('.')\n",
    "                    p = party_translation.get(p, 'Ignore')\n",
    "                    c = [p.get_text().strip() for p in intervention.content('paratext')]\n",
    "                    if not ignore_alt_parties or p != 'Ignore':\n",
    "                        name2party[n].add(p)\n",
    "                        party2names[p].add(n)\n",
    "                        content[n].extend(c)\n",
    "    # remove politicians with ambiguous labels\n",
    "    ambiguous_politicians = [k for k, v in name2party.items() if len(v) > 1]\n",
    "    for pol in ambiguous_politicians:\n",
    "        del name2party[pol]\n",
    "        for _, names in party2names.items():\n",
    "            names.discard(pol)\n",
    "        del content[pol]\n",
    "    return name2party, party2names, content\n",
    "\n",
    "def parliament_stats(n2p, p2n):\n",
    "    print('%d politicians, %d political parties.' % (len(n2p), len(p2n)))\n",
    "    parties = sorted(list(p2n.keys()))\n",
    "    for p in parties:\n",
    "        print(\"- %s:\\t%d politicians\" % (p, len(p2n[p])))"
   ]
  },
  {
   "cell_type": "code",
   "execution_count": 5,
   "metadata": {
    "collapsed": false,
    "deletable": true,
    "editable": true
   },
   "outputs": [
    {
     "name": "stderr",
     "output_type": "stream",
     "text": [
      "313it [00:04, 73.92it/s]\n",
      "16it [00:03,  3.88it/s]\n"
     ]
    },
    {
     "ename": "KeyboardInterrupt",
     "evalue": "",
     "output_type": "error",
     "traceback": [
      "\u001b[0;31m---------------------------------------------------------------------------\u001b[0m",
      "\u001b[0;31mKeyboardInterrupt\u001b[0m                         Traceback (most recent call last)",
      "\u001b[0;32m<ipython-input-5-922d48f4b351>\u001b[0m in \u001b[0;36m<module>\u001b[0;34m()\u001b[0m\n\u001b[1;32m      3\u001b[0m \u001b[0mcontent\u001b[0m \u001b[0;34m=\u001b[0m \u001b[0;34m{\u001b[0m\u001b[0;34m}\u001b[0m\u001b[0;34m\u001b[0m\u001b[0m\n\u001b[1;32m      4\u001b[0m \u001b[0mn2p\u001b[0m\u001b[0;34m[\u001b[0m\u001b[0;36m36\u001b[0m\u001b[0;34m]\u001b[0m\u001b[0;34m,\u001b[0m \u001b[0mp2n\u001b[0m\u001b[0;34m[\u001b[0m\u001b[0;36m36\u001b[0m\u001b[0;34m]\u001b[0m\u001b[0;34m,\u001b[0m \u001b[0mcontent\u001b[0m\u001b[0;34m[\u001b[0m\u001b[0;36m36\u001b[0m\u001b[0;34m]\u001b[0m \u001b[0;34m=\u001b[0m \u001b[0mhansard_txt\u001b[0m\u001b[0;34m(\u001b[0m\u001b[0;34m\"/data/virgile/hansard/36\"\u001b[0m\u001b[0;34m)\u001b[0m\u001b[0;34m\u001b[0m\u001b[0m\n\u001b[0;32m----> 5\u001b[0;31m \u001b[0mn2p\u001b[0m\u001b[0;34m[\u001b[0m\u001b[0;36m39\u001b[0m\u001b[0;34m]\u001b[0m\u001b[0;34m,\u001b[0m \u001b[0mp2n\u001b[0m\u001b[0;34m[\u001b[0m\u001b[0;36m39\u001b[0m\u001b[0;34m]\u001b[0m\u001b[0;34m,\u001b[0m \u001b[0mcontent\u001b[0m\u001b[0;34m[\u001b[0m\u001b[0;36m39\u001b[0m\u001b[0;34m]\u001b[0m \u001b[0;34m=\u001b[0m \u001b[0mhansard_xml\u001b[0m\u001b[0;34m(\u001b[0m\u001b[0;34m'/data/virgile/hansard/39/'\u001b[0m\u001b[0;34m)\u001b[0m\u001b[0;34m\u001b[0m\u001b[0m\n\u001b[0m\u001b[1;32m      6\u001b[0m \u001b[0mn2p\u001b[0m\u001b[0;34m[\u001b[0m\u001b[0;36m40\u001b[0m\u001b[0;34m]\u001b[0m\u001b[0;34m,\u001b[0m \u001b[0mp2n\u001b[0m\u001b[0;34m[\u001b[0m\u001b[0;36m40\u001b[0m\u001b[0;34m]\u001b[0m\u001b[0;34m,\u001b[0m \u001b[0mcontent\u001b[0m\u001b[0;34m[\u001b[0m\u001b[0;36m40\u001b[0m\u001b[0;34m]\u001b[0m \u001b[0;34m=\u001b[0m \u001b[0mhansard_xml\u001b[0m\u001b[0;34m(\u001b[0m\u001b[0;34m'/data/virgile/hansard/40/'\u001b[0m\u001b[0;34m)\u001b[0m\u001b[0;34m\u001b[0m\u001b[0m\n",
      "\u001b[0;32m<ipython-input-4-70603f295f1a>\u001b[0m in \u001b[0;36mhansard_xml\u001b[0;34m(dir_path, n, ignore_alt_parties)\u001b[0m\n\u001b[1;32m     65\u001b[0m \u001b[0;34m\u001b[0m\u001b[0m\n\u001b[1;32m     66\u001b[0m     \u001b[0;32mfor\u001b[0m \u001b[0mi\u001b[0m\u001b[0;34m,\u001b[0m \u001b[0mh\u001b[0m \u001b[0;32min\u001b[0m \u001b[0mtqdm\u001b[0m\u001b[0;34m(\u001b[0m\u001b[0menumerate\u001b[0m\u001b[0;34m(\u001b[0m\u001b[0mlazy_file_load\u001b[0m\u001b[0;34m(\u001b[0m\u001b[0mdir_path\u001b[0m\u001b[0;34m,\u001b[0m \u001b[0;34m'/*'\u001b[0m\u001b[0;34m,\u001b[0m \u001b[0mn\u001b[0m\u001b[0;34m)\u001b[0m\u001b[0;34m)\u001b[0m\u001b[0;34m)\u001b[0m\u001b[0;34m:\u001b[0m\u001b[0;34m\u001b[0m\u001b[0m\n\u001b[0;32m---> 67\u001b[0;31m         \u001b[0msoup\u001b[0m \u001b[0;34m=\u001b[0m \u001b[0mBeautifulSoup\u001b[0m\u001b[0;34m(\u001b[0m\u001b[0mh\u001b[0m\u001b[0;34m,\u001b[0m \u001b[0;34m'lxml'\u001b[0m\u001b[0;34m)\u001b[0m\u001b[0;34m\u001b[0m\u001b[0m\n\u001b[0m\u001b[1;32m     68\u001b[0m         \u001b[0minterventions\u001b[0m \u001b[0;34m=\u001b[0m \u001b[0msoup\u001b[0m\u001b[0;34m.\u001b[0m\u001b[0mfind_all\u001b[0m\u001b[0;34m(\u001b[0m\u001b[0;34m'intervention'\u001b[0m\u001b[0;34m,\u001b[0m \u001b[0mtype\u001b[0m\u001b[0;34m=\u001b[0m\u001b[0;34m'Debate'\u001b[0m\u001b[0;34m)\u001b[0m\u001b[0;34m\u001b[0m\u001b[0m\n\u001b[1;32m     69\u001b[0m         \u001b[0;32mfor\u001b[0m \u001b[0mintervention\u001b[0m \u001b[0;32min\u001b[0m \u001b[0minterventions\u001b[0m\u001b[0;34m:\u001b[0m\u001b[0;34m\u001b[0m\u001b[0m\n",
      "\u001b[0;32m~/.conda/envs/py36/lib/python3.6/site-packages/bs4/__init__.py\u001b[0m in \u001b[0;36m__init__\u001b[0;34m(self, markup, features, builder, parse_only, from_encoding, exclude_encodings, **kwargs)\u001b[0m\n\u001b[1;32m    280\u001b[0m             \u001b[0mself\u001b[0m\u001b[0;34m.\u001b[0m\u001b[0mreset\u001b[0m\u001b[0;34m(\u001b[0m\u001b[0;34m)\u001b[0m\u001b[0;34m\u001b[0m\u001b[0m\n\u001b[1;32m    281\u001b[0m             \u001b[0;32mtry\u001b[0m\u001b[0;34m:\u001b[0m\u001b[0;34m\u001b[0m\u001b[0m\n\u001b[0;32m--> 282\u001b[0;31m                 \u001b[0mself\u001b[0m\u001b[0;34m.\u001b[0m\u001b[0m_feed\u001b[0m\u001b[0;34m(\u001b[0m\u001b[0;34m)\u001b[0m\u001b[0;34m\u001b[0m\u001b[0m\n\u001b[0m\u001b[1;32m    283\u001b[0m                 \u001b[0;32mbreak\u001b[0m\u001b[0;34m\u001b[0m\u001b[0m\n\u001b[1;32m    284\u001b[0m             \u001b[0;32mexcept\u001b[0m \u001b[0mParserRejectedMarkup\u001b[0m\u001b[0;34m:\u001b[0m\u001b[0;34m\u001b[0m\u001b[0m\n",
      "\u001b[0;32m~/.conda/envs/py36/lib/python3.6/site-packages/bs4/__init__.py\u001b[0m in \u001b[0;36m_feed\u001b[0;34m(self)\u001b[0m\n\u001b[1;32m    341\u001b[0m         \u001b[0mself\u001b[0m\u001b[0;34m.\u001b[0m\u001b[0mbuilder\u001b[0m\u001b[0;34m.\u001b[0m\u001b[0mreset\u001b[0m\u001b[0;34m(\u001b[0m\u001b[0;34m)\u001b[0m\u001b[0;34m\u001b[0m\u001b[0m\n\u001b[1;32m    342\u001b[0m \u001b[0;34m\u001b[0m\u001b[0m\n\u001b[0;32m--> 343\u001b[0;31m         \u001b[0mself\u001b[0m\u001b[0;34m.\u001b[0m\u001b[0mbuilder\u001b[0m\u001b[0;34m.\u001b[0m\u001b[0mfeed\u001b[0m\u001b[0;34m(\u001b[0m\u001b[0mself\u001b[0m\u001b[0;34m.\u001b[0m\u001b[0mmarkup\u001b[0m\u001b[0;34m)\u001b[0m\u001b[0;34m\u001b[0m\u001b[0m\n\u001b[0m\u001b[1;32m    344\u001b[0m         \u001b[0;31m# Close out any unfinished strings and close all the open tags.\u001b[0m\u001b[0;34m\u001b[0m\u001b[0;34m\u001b[0m\u001b[0m\n\u001b[1;32m    345\u001b[0m         \u001b[0mself\u001b[0m\u001b[0;34m.\u001b[0m\u001b[0mendData\u001b[0m\u001b[0;34m(\u001b[0m\u001b[0;34m)\u001b[0m\u001b[0;34m\u001b[0m\u001b[0m\n",
      "\u001b[0;32m~/.conda/envs/py36/lib/python3.6/site-packages/bs4/builder/_lxml.py\u001b[0m in \u001b[0;36mfeed\u001b[0;34m(self, markup)\u001b[0m\n\u001b[1;32m    253\u001b[0m             \u001b[0mself\u001b[0m\u001b[0;34m.\u001b[0m\u001b[0mparser\u001b[0m \u001b[0;34m=\u001b[0m \u001b[0mself\u001b[0m\u001b[0;34m.\u001b[0m\u001b[0mparser_for\u001b[0m\u001b[0;34m(\u001b[0m\u001b[0mencoding\u001b[0m\u001b[0;34m)\u001b[0m\u001b[0;34m\u001b[0m\u001b[0m\n\u001b[1;32m    254\u001b[0m             \u001b[0mself\u001b[0m\u001b[0;34m.\u001b[0m\u001b[0mparser\u001b[0m\u001b[0;34m.\u001b[0m\u001b[0mfeed\u001b[0m\u001b[0;34m(\u001b[0m\u001b[0mmarkup\u001b[0m\u001b[0;34m)\u001b[0m\u001b[0;34m\u001b[0m\u001b[0m\n\u001b[0;32m--> 255\u001b[0;31m             \u001b[0mself\u001b[0m\u001b[0;34m.\u001b[0m\u001b[0mparser\u001b[0m\u001b[0;34m.\u001b[0m\u001b[0mclose\u001b[0m\u001b[0;34m(\u001b[0m\u001b[0;34m)\u001b[0m\u001b[0;34m\u001b[0m\u001b[0m\n\u001b[0m\u001b[1;32m    256\u001b[0m         \u001b[0;32mexcept\u001b[0m \u001b[0;34m(\u001b[0m\u001b[0mUnicodeDecodeError\u001b[0m\u001b[0;34m,\u001b[0m \u001b[0mLookupError\u001b[0m\u001b[0;34m,\u001b[0m \u001b[0metree\u001b[0m\u001b[0;34m.\u001b[0m\u001b[0mParserError\u001b[0m\u001b[0;34m)\u001b[0m \u001b[0;32mas\u001b[0m \u001b[0me\u001b[0m\u001b[0;34m:\u001b[0m\u001b[0;34m\u001b[0m\u001b[0m\n\u001b[1;32m    257\u001b[0m             \u001b[0;32mraise\u001b[0m \u001b[0mParserRejectedMarkup\u001b[0m\u001b[0;34m(\u001b[0m\u001b[0mstr\u001b[0m\u001b[0;34m(\u001b[0m\u001b[0me\u001b[0m\u001b[0;34m)\u001b[0m\u001b[0;34m)\u001b[0m\u001b[0;34m\u001b[0m\u001b[0m\n",
      "\u001b[0;32msrc/lxml/parser.pxi\u001b[0m in \u001b[0;36mlxml.etree._FeedParser.close\u001b[0;34m()\u001b[0m\n",
      "\u001b[0;32msrc/lxml/parser.pxi\u001b[0m in \u001b[0;36mlxml.etree._FeedParser.close\u001b[0;34m()\u001b[0m\n",
      "\u001b[0;32msrc/lxml/parsertarget.pxi\u001b[0m in \u001b[0;36mlxml.etree._TargetParserContext._handleParseResult\u001b[0;34m()\u001b[0m\n",
      "\u001b[0;32msrc/lxml/parsertarget.pxi\u001b[0m in \u001b[0;36mlxml.etree._TargetParserContext._handleParseResult\u001b[0;34m()\u001b[0m\n",
      "\u001b[0;32msrc/lxml/etree.pyx\u001b[0m in \u001b[0;36mlxml.etree._ExceptionContext._raise_if_stored\u001b[0;34m()\u001b[0m\n",
      "\u001b[0;32msrc/lxml/saxparser.pxi\u001b[0m in \u001b[0;36mlxml.etree._handleSaxTargetStartNoNs\u001b[0;34m()\u001b[0m\n",
      "\u001b[0;32msrc/lxml/saxparser.pxi\u001b[0m in \u001b[0;36mlxml.etree._callTargetSaxStart\u001b[0;34m()\u001b[0m\n",
      "\u001b[0;32msrc/lxml/parsertarget.pxi\u001b[0m in \u001b[0;36mlxml.etree._PythonSaxParserTarget._handleSaxStart\u001b[0;34m()\u001b[0m\n",
      "\u001b[0;32m~/.conda/envs/py36/lib/python3.6/site-packages/bs4/builder/_lxml.py\u001b[0m in \u001b[0;36mstart\u001b[0;34m(self, name, attrs, nsmap)\u001b[0m\n\u001b[1;32m    147\u001b[0m         \u001b[0mself\u001b[0m\u001b[0;34m.\u001b[0m\u001b[0mnsmaps\u001b[0m \u001b[0;34m=\u001b[0m \u001b[0;34m[\u001b[0m\u001b[0mself\u001b[0m\u001b[0;34m.\u001b[0m\u001b[0mDEFAULT_NSMAPS\u001b[0m\u001b[0;34m]\u001b[0m\u001b[0;34m\u001b[0m\u001b[0m\n\u001b[1;32m    148\u001b[0m \u001b[0;34m\u001b[0m\u001b[0m\n\u001b[0;32m--> 149\u001b[0;31m     \u001b[0;32mdef\u001b[0m \u001b[0mstart\u001b[0m\u001b[0;34m(\u001b[0m\u001b[0mself\u001b[0m\u001b[0;34m,\u001b[0m \u001b[0mname\u001b[0m\u001b[0;34m,\u001b[0m \u001b[0mattrs\u001b[0m\u001b[0;34m,\u001b[0m \u001b[0mnsmap\u001b[0m\u001b[0;34m=\u001b[0m\u001b[0;34m{\u001b[0m\u001b[0;34m}\u001b[0m\u001b[0;34m)\u001b[0m\u001b[0;34m:\u001b[0m\u001b[0;34m\u001b[0m\u001b[0m\n\u001b[0m\u001b[1;32m    150\u001b[0m         \u001b[0;31m# Make sure attrs is a mutable dict--lxml may send an immutable dictproxy.\u001b[0m\u001b[0;34m\u001b[0m\u001b[0;34m\u001b[0m\u001b[0m\n\u001b[1;32m    151\u001b[0m         \u001b[0mattrs\u001b[0m \u001b[0;34m=\u001b[0m \u001b[0mdict\u001b[0m\u001b[0;34m(\u001b[0m\u001b[0mattrs\u001b[0m\u001b[0;34m)\u001b[0m\u001b[0;34m\u001b[0m\u001b[0m\n",
      "\u001b[0;31mKeyboardInterrupt\u001b[0m: "
     ]
    }
   ],
   "source": [
    "n2p = {}\n",
    "p2n = {}\n",
    "content = {}\n",
    "n2p[36], p2n[36], content[36] = hansard_txt(\"/data/virgile/hansard/36\")\n",
    "n2p[39], p2n[39], content[39] = hansard_xml('/data/virgile/hansard/39/')\n",
    "n2p[40], p2n[40], content[40] = hansard_xml('/data/virgile/hansard/40/')"
   ]
  },
  {
   "cell_type": "code",
   "execution_count": 12,
   "metadata": {
    "collapsed": false,
    "deletable": true,
    "editable": true
   },
   "outputs": [
    {
     "name": "stdout",
     "output_type": "stream",
     "text": [
      "= Parliament 36:\n",
      "================\n",
      "257 politicians, 2 political parties.\n",
      "- Conservative:\t80 politicians\n",
      "- Liberal:\t177 politicians\n",
      "= Parliament 39:\n",
      "================\n",
      "239 politicians, 2 political parties.\n",
      "- Conservative:\t135 politicians\n",
      "- Liberal:\t104 politicians\n",
      "= Parliament 40:\n",
      "================\n",
      "237 politicians, 2 political parties.\n",
      "- Conservative:\t158 politicians\n",
      "- Liberal:\t79 politicians\n"
     ]
    }
   ],
   "source": [
    "parl_nums = [36,39,40]\n",
    "for pn in parl_nums:\n",
    "    print('= Parliament %d:' % pn)\n",
    "    print('================')\n",
    "    parliament_stats(n2p[pn], p2n[pn])"
   ]
  },
  {
   "cell_type": "markdown",
   "metadata": {
    "deletable": true,
    "editable": true
   },
   "source": [
    "## Experiment"
   ]
  },
  {
   "cell_type": "markdown",
   "metadata": {
    "deletable": true,
    "editable": true
   },
   "source": [
    "### Generate matrices"
   ]
  },
  {
   "cell_type": "code",
   "execution_count": 21,
   "metadata": {
    "collapsed": true,
    "deletable": true,
    "editable": true
   },
   "outputs": [],
   "source": [
    "def vectorize_speeches(p2n, content, pns=[36,39,40], parties=['Liberal', 'Conservative']):\n",
    "    vec = TfidfVectorizer(min_df=5, max_df=.8, stop_words='english', max_features=15000)\n",
    "    \n",
    "    le = preprocessing.LabelEncoder()\n",
    "    le.fit(parties)\n",
    "    \n",
    "    governing = {\n",
    "        36: 'Liberal',\n",
    "        39: 'Conservative',\n",
    "        40: 'Conservative'\n",
    "    }\n",
    "    \n",
    "    def get_all_speeches():\n",
    "        for pn in pns:\n",
    "            for party in parties:\n",
    "                for n in p2n[pn][party]:\n",
    "                    yield ' '.join(content[pn][n])\n",
    "                    \n",
    "    def get_labels():\n",
    "        all_Y = []\n",
    "        all_C = []\n",
    "        indices = {}\n",
    "        idx = 0\n",
    "        for pn in pns:\n",
    "            indices[pn] = [idx]\n",
    "            for party in parties:\n",
    "                l = len(p2n[pn][party])\n",
    "                idx += l\n",
    "                all_Y.extend(le.transform([party]*l))\n",
    "                c = 1 if party == governing[pn] else 0\n",
    "                all_C.extend([c]*l)\n",
    "            indices[pn].append(idx)\n",
    "        return np.array(all_Y), np.array(all_C), indices\n",
    "    \n",
    "    all_X = vec.fit_transform(get_all_speeches())\n",
    "    all_Y, all_C, indices = get_labels()\n",
    "\n",
    "    X = {}\n",
    "    Y = {}\n",
    "    C = {}\n",
    "    \n",
    "    for pn, (start, end) in indices.items():\n",
    "        X[pn] = all_X[start:end]\n",
    "        Y[pn] = all_Y[start:end]\n",
    "        C[pn] = all_C[start:end]\n",
    "    return X, Y, C, np.array(vec.get_feature_names())"
   ]
  },
  {
   "cell_type": "code",
   "execution_count": 22,
   "metadata": {
    "collapsed": false,
    "deletable": true,
    "editable": true
   },
   "outputs": [],
   "source": [
    "X, Y, C, feature_names = vectorize_speeches(p2n, content)"
   ]
  },
  {
   "cell_type": "code",
   "execution_count": 23,
   "metadata": {},
   "outputs": [
    {
     "data": {
      "text/plain": [
       "{36: <257x15000 sparse matrix of type '<class 'numpy.float64'>'\n",
       " \twith 633368 stored elements in Compressed Sparse Row format>,\n",
       " 39: <239x15000 sparse matrix of type '<class 'numpy.float64'>'\n",
       " \twith 546534 stored elements in Compressed Sparse Row format>,\n",
       " 40: <237x15000 sparse matrix of type '<class 'numpy.float64'>'\n",
       " \twith 508074 stored elements in Compressed Sparse Row format>}"
      ]
     },
     "execution_count": 23,
     "metadata": {},
     "output_type": "execute_result"
    }
   ],
   "source": [
    "X"
   ]
  },
  {
   "cell_type": "code",
   "execution_count": 24,
   "metadata": {},
   "outputs": [],
   "source": [
    "import scipy.sparse as sp"
   ]
  },
  {
   "cell_type": "code",
   "execution_count": 29,
   "metadata": {},
   "outputs": [],
   "source": [
    "Cs = np.hstack([C[_] for _ in [36,39,40]])"
   ]
  },
  {
   "cell_type": "code",
   "execution_count": 40,
   "metadata": {},
   "outputs": [],
   "source": [
    "ds = {}\n",
    "for n in [36,39,40]:\n",
    "    ds[n] = acu.Dataset(X=X[n], y=Y[n], z=C[n], features=feature_names)\n",
    "    ds[n].to_pickle(\"/data/virgile/confound/adaptive/in/canparliament_{}.pkl\".format(n))"
   ]
  },
  {
   "cell_type": "code",
   "execution_count": 34,
   "metadata": {},
   "outputs": [
    {
     "data": {
      "text/plain": [
       "< Dataset: size=733, p(y)=0.49, p(z)=0.64, bias=0.38, parent=None >"
      ]
     },
     "execution_count": 34,
     "metadata": {},
     "output_type": "execute_result"
    }
   ],
   "source": [
    "d"
   ]
  },
  {
   "cell_type": "code",
   "execution_count": 35,
   "metadata": {},
   "outputs": [],
   "source": [
    "d.to_pickle(\"/data/virgile/confound/adaptive/in/canparliament.pkl\")"
   ]
  },
  {
   "cell_type": "code",
   "execution_count": 37,
   "metadata": {},
   "outputs": [],
   "source": [
    "d2 = d.make_balanced_dataset()\n",
    "d2.to_pickle(\"/data/virgile/confound/adaptive/in/balanced_canparliament.pkl\")"
   ]
  },
  {
   "cell_type": "code",
   "execution_count": 38,
   "metadata": {},
   "outputs": [
    {
     "data": {
      "text/plain": [
       "< Dataset: size=320, p(y)=0.50, p(z)=0.50, bias=0.50, parent=< Dataset: size=733, p(y)=0.49, p(z)=0.64, bias=0.38, parent=None > >"
      ]
     },
     "execution_count": 38,
     "metadata": {},
     "output_type": "execute_result"
    }
   ],
   "source": [
    "d2"
   ]
  },
  {
   "cell_type": "code",
   "execution_count": 6,
   "metadata": {},
   "outputs": [],
   "source": [
    "ds = {}\n",
    "for n in [36,39,40]:\n",
    "    ds[n] = acu.read_pickle(\"/data/virgile/confound/adaptive/in/canparliament_{}.pkl\".format(n))"
   ]
  },
  {
   "cell_type": "markdown",
   "metadata": {
    "deletable": true,
    "editable": true
   },
   "source": [
    "### Classifier Models"
   ]
  },
  {
   "cell_type": "code",
   "execution_count": 8,
   "metadata": {
    "collapsed": false,
    "deletable": true,
    "editable": true
   },
   "outputs": [],
   "source": [
    "# %run models.py\n",
    "# %run ba.py\n",
    "# %run ba_c_study.py\n",
    "backdoor_adjustment_var_C = lambda x,y,z,t,u,c: acc.BackdoorAdjustment(transform=lambda _: _*c).fit(x,z.reshape(-1,1),y)\n",
    "backdoor_adjustment = lambda x,y,z,t,u: backdoor_adjustment_var_C(x,y,z,t,u,1)\n",
    "backdoor_adjustment_Z5 = lambda x,y,z,t,u: backdoor_adjustment_var_C(x,y,z,t,u,5)\n",
    "backdoor_adjustment_Z10 = lambda x,y,z,t,u: backdoor_adjustment_var_C(x,y,z,t,u,10)\n",
    "backdoor_adjustment_Z100 = lambda x,y,z,t,u: backdoor_adjustment_var_C(x,y,z,t,u,100)\n",
    "backdoor_adjustment_Z1000 = lambda x,y,z,t,u: backdoor_adjustment_var_C(x,y,z,t,u,1000)"
   ]
  },
  {
   "cell_type": "code",
   "execution_count": 12,
   "metadata": {},
   "outputs": [],
   "source": [
    "import numpy as np\n",
    "import scipy.sparse as sparse\n",
    "import copy\n",
    "\n",
    "from sklearn.svm import LinearSVC\n",
    "from sklearn.linear_model import LogisticRegression\n",
    "from sklearn.naive_bayes import BernoulliNB\n",
    "from sklearn.feature_selection import chi2\n",
    "from sklearn.preprocessing import scale\n",
    "from scipy import sparse\n",
    "\n",
    "def scale_X(X):\n",
    "    X = X.astype(float)\n",
    "    if issparse(X):\n",
    "        X = scale(X, with_mean=False)\n",
    "    else:\n",
    "        X = scale(X)\n",
    "    return X\n",
    "\n",
    "# Basic Models\n",
    "def lr(X, y, c, rand, feature_names):\n",
    "    clf = LogisticRegression(class_weight='balanced')\n",
    "    #X = scale_X(X)\n",
    "    clf.fit(X, y)\n",
    "    return clf\n",
    "\n",
    "def lin_svc(X, y, c, rand, feature_names):\n",
    "    clf = LinearSVC()\n",
    "    clf.fit(X,y)\n",
    "    return clf\n",
    "\n",
    "def nb(X, y, c, rand, feature_names):\n",
    "    clf = BernoulliNB()\n",
    "    #X = scale_X(X)\n",
    "    clf.fit(X, y)\n",
    "    return clf\n",
    "\n",
    "# A matching-based classifier.\n",
    "def make_same_length(a, b):\n",
    "    # Duplicate the smaller list until it is at least as large as the larger list.\n",
    "    if len(a) < len(b):\n",
    "        factor = int(math.ceil(1. * len(b) / len(a)))\n",
    "        a = a * factor\n",
    "    else:\n",
    "        factor = int(math.ceil(1. * len(a) / len(b)))\n",
    "        b = b * factor\n",
    "    return a, b        \n",
    "\n",
    "    \n",
    "def matching_sum(X, y, c, rand, feature_names):\n",
    "    \"\"\"\n",
    "    For each training example where y=y_i and c=c_i, create a negative example equal to the mean\n",
    "    feature value for y=y_i' and c=c_i.\n",
    "    Training objective is to discriminate these pairs of examples.\n",
    "    FIXME: this is slow.\n",
    "    \"\"\"\n",
    "    yc_eq = set(np.where(y == c)[0])\n",
    "    yc_diff = set(np.where(y != c)[0])\n",
    "    ypos = set(np.where(y == 1)[0])\n",
    "    yneg = set(np.where(y == 0)[0])\n",
    "    \n",
    "    both_pos = list(yc_eq & ypos)\n",
    "    both_neg = list(yc_eq & yneg)\n",
    "    ypos_cneg =list(yc_diff & ypos)\n",
    "    yneg_cpos =list(yc_diff & yneg)\n",
    "    \n",
    "    both_pos_sum = X[both_pos, :].mean(axis=1)\n",
    "    both_neg_sum = X[both_neg, :].mean(axis=1)\n",
    "    ypos_cneg_sum = X[ypos_cneg, :].mean(axis=1)\n",
    "    yneg_cpos_sum = X[yneg_cpos, :].mean(axis=1)\n",
    "\n",
    "    #X = scale_X(X)\n",
    "    rows = []\n",
    "    newY = []\n",
    "    flip = 1.\n",
    "    for i in range(len(y)):\n",
    "        if y[i] == 1:\n",
    "            if c[i] == 1:\n",
    "                rows.append((X[i] - yneg_cpos_sum) * flip)\n",
    "                newY.append(max(int(flip), 0))\n",
    "                flip *= -1\n",
    "                #for j in yneg_cpos:\n",
    "                #    if j > i:\n",
    "                #        rows.append((X[i] - X[j]) * flip)\n",
    "                #        newY.append(max(int(flip), 0))\n",
    "                #        flip *= -1\n",
    "            else:\n",
    "                rows.append((X[i] - both_neg_sum) * flip)\n",
    "                newY.append(max(int(flip), 0))\n",
    "                flip *= -1                \n",
    "                #for j in both_neg:\n",
    "                #    if j > i:\n",
    "                #        rows.append((X[i] - X[j]) * flip)\n",
    "                #        newY.append(max(int(flip), 0))\n",
    "                #        flip *= -1\n",
    "        else:\n",
    "            if c[i] == 1:\n",
    "                rows.append((ypos_cneg_sum - X[i]) * flip)\n",
    "                newY.append(max(int(flip), 0))\n",
    "                flip *= -1                \n",
    "                #for j in ypos_cneg:\n",
    "                #    if j > i:\n",
    "                #        rows.append((X[j] - X[i]) * flip)\n",
    "                #        newY.append(max(int(flip), 0))\n",
    "                #        flip *= -1\n",
    "            else:\n",
    "                rows.append((both_pos_sum - X[i]) * flip)\n",
    "                newY.append(max(int(flip), 0))\n",
    "                flip *= -1                                \n",
    "                #for j in both_pos:\n",
    "                #    if j > i:\n",
    "                #        rows.append((X[j] - X[i]) * flip)\n",
    "                #        newY.append(max(int(flip), 0))\n",
    "                #        flip *= -1\n",
    "                    \n",
    "    newX = sparse.vstack(rows)\n",
    "    m = LogisticRegression(fit_intercept=False, class_weight=\"balanced\")\n",
    "    print('fit on %d instances' % newX.shape[0])\n",
    "    m.fit(newX, newY)\n",
    "    return m                \n",
    "\n",
    "# problem when dataset does not contain instances for all y-c pairs.\n",
    "def matching(X, y, c, rand, feature_names):\n",
    "    \"\"\"\n",
    "    For each training example where y=y_i and c=c_i, create a negative example by sampling \n",
    "    an instance where y!=y_i and c=c_i\n",
    "    Training objective is to discriminate these pairs of examples.\n",
    "    FIXME: accuracy is pretty low. Is it because p(c) is biases in the sampling method?\n",
    "    \"\"\"\n",
    "    yc_eq = set(np.where(y == c)[0])\n",
    "    yc_diff = set(np.where(y != c)[0])\n",
    "    ypos = set(np.where(y == 1)[0])\n",
    "    yneg = set(np.where(y == 0)[0])\n",
    "    \n",
    "    both_pos = list(yc_eq & ypos)\n",
    "    both_neg = list(yc_eq & yneg)\n",
    "    ypos_cneg =list(yc_diff & ypos)\n",
    "    yneg_cpos =list(yc_diff & yneg)\n",
    "\n",
    "    rows = []\n",
    "    newY = []\n",
    "    flip = 1.\n",
    "    for i in range(len(y)):\n",
    "        if y[i] == 1:\n",
    "            if c[i] == 1:\n",
    "                fv = X[i] - X[rand.choice(yneg_cpos)]\n",
    "            else:\n",
    "                fv = X[i] - X[rand.choice(both_neg)]\n",
    "        else:\n",
    "            if c[i] == 1:\n",
    "                fv = X[rand.choice(ypos_cneg)] - X[i]\n",
    "            else:\n",
    "                fv = X[rand.choice(both_pos)] - X[i]\n",
    "            \n",
    "        rows.append(fv * flip)\n",
    "        newY.append(max(int(flip), 0))\n",
    "        flip *= -1\n",
    "                    \n",
    "    newX = sparse.vstack(rows)\n",
    "    m = LogisticRegression(fit_intercept=False, class_weight=\"balanced\")\n",
    "    m.fit(newX, newY)\n",
    "    return m    \n",
    "\n",
    "# Sum out the confounding variable.\n",
    "# 1. Fit classifier in product space of c/y. (E.g., P(c^y|x))\n",
    "# 2. To classify new x, return P(c=1^y=1|x) + P(c=0^y=1|x)\n",
    "class SumOutClf:\n",
    "    def __init__(self, clf):\n",
    "        self.clf = clf\n",
    "        self.coef_ = [self.clf.coef_[2]]\n",
    "        \n",
    "    def predict(self, X):\n",
    "        proba = np.matrix(self.clf.predict_proba(X))\n",
    "        # sum cols 1,2 (y0c0, y0c1) and cols 3,4 (y1c0,y1c1)\n",
    "        proba = np.hstack((proba[:,:2].sum(axis=1), proba[:,2:4].sum(axis=1)))\n",
    "        # return argmax of each row\n",
    "        return np.array(proba.argmax(axis=1).T.tolist()[0])\n",
    "        \n",
    "# problem on sumout when not all pairs y/c are present in the data\n",
    "def sumout(X, y, c, rand, feature_names):\n",
    "    clf = LogisticRegression(class_weight=\"balanced\")\n",
    "    label2index = {(0, 0): 0, (0, 1): 1, (1, 0): 2, (1, 1): 3}\n",
    "    yc = [label2index[(yi, ci)] for yi, ci in zip(y, c)]\n",
    "    clf.fit(X, yc)\n",
    "    return SumOutClf(clf)\n",
    "\n",
    "def get_n_top_features(X, c, n, feature_names):\n",
    "    chi, F = chi2(X, c)\n",
    "    clf = LogisticRegression(class_weight=\"balanced\")\n",
    "    clf.fit(X, c)\n",
    "    coef_sign = clf.coef_[0] / np.abs(clf.coef_[0])\n",
    "    signed_chi = chi * coef_sign\n",
    "    counts = X.sum(0).tolist()[0]\n",
    "    top_feats = [i for i in np.argsort(signed_chi)[::-1] if counts[i] > 1][:n]\n",
    "    if feature_names is not None:\n",
    "        print('top_feats=', feature_names[top_feats])\n",
    "    return top_feats\n",
    "\n",
    "def feature_select(X, y, c, rand, feature_names):\n",
    "    \"\"\" Find the highest chi2 feature for class c and remove it from the classifier.\"\"\"\n",
    "    #X = scale_X(X)\n",
    "    chi, F = chi2(X, c)\n",
    "    clf = LogisticRegression(class_weight=\"balanced\")\n",
    "    clf.fit(X, c)\n",
    "    coef_sign = clf.coef_[0] / np.abs(clf.coef_[0])\n",
    "    signed_chi = chi * coef_sign\n",
    "    counts = X.sum(0).tolist()[0]\n",
    "    top_feats = [i for i in np.argsort(signed_chi)[::-1] if counts[i] > 1][:1]\n",
    "    if feature_names is not None:\n",
    "        print('top_feats=', feature_names[top_feats])\n",
    "    X2 = copy.copy(X)\n",
    "    X2[:,top_feats] = 0.  # Set top feature to 0\n",
    "    clf.fit(X2, y)\n",
    "    return clf\n",
    "\n",
    "def lr_subsampling(X, y, c, rand, feature_names):\n",
    "    \"\"\"\n",
    "    Subsampling LR for binary label and binary confounder.\n",
    "    \"\"\"\n",
    "    #X = scale_X(X)\n",
    "    yc_eq = set(np.where(y == c)[0])\n",
    "    yc_diff = set(np.where(y != c)[0])\n",
    "    ypos = set(np.where(y == 1)[0])\n",
    "    yneg = set(np.where(y == 0)[0])\n",
    "    \n",
    "    both_pos = list(yc_eq & ypos)\n",
    "    both_neg = list(yc_eq & yneg)\n",
    "    ypos_cneg =list(yc_diff & ypos)\n",
    "    yneg_cpos =list(yc_diff & yneg)\n",
    "\n",
    "    all_classes = [both_pos, both_neg, ypos_cneg, yneg_cpos]\n",
    "    min_class = min([len(l) for l in all_classes if l])\n",
    "\n",
    "    subsampled_idx = []\n",
    "    for l in all_classes:\n",
    "        if l:\n",
    "            subsampled_class = np.random.choice(l, min_class, replace=False)\n",
    "            subsampled_idx.extend(subsampled_class)\n",
    "\n",
    "    yc_eq = set(np.where(y[subsampled_idx] == c[subsampled_idx])[0])\n",
    "    yc_diff = set(np.where(y[subsampled_idx] != c[subsampled_idx])[0])\n",
    "    ypos = set(np.where(y[subsampled_idx] == 1)[0])\n",
    "    yneg = set(np.where(y[subsampled_idx] == 0)[0])\n",
    "    \n",
    "    both_pos = list(yc_eq & ypos)\n",
    "    both_neg = list(yc_eq & yneg)\n",
    "    ypos_cneg =list(yc_diff & ypos)\n",
    "    yneg_cpos =list(yc_diff & yneg)\n",
    "\n",
    "    all_classes = [both_pos, both_neg, ypos_cneg, yneg_cpos]\n",
    "    #print([len(x) for x in all_classes])\n",
    "    \n",
    "    return lr(X[subsampled_idx],\n",
    "              y[subsampled_idx],\n",
    "              c[subsampled_idx], rand, feature_names)\n",
    "\n",
    "class BackdoorAdjustment:      \n",
    "    def __init__(self, c_ft_value=1.):\n",
    "        self.clf = LogisticRegression(class_weight='balanced')                                           \n",
    "        self.c_ft_value = c_ft_value\n",
    "    \n",
    "    def predict_proba(self, X):                                               \n",
    "        # build features with every possible confounder                       \n",
    "        l = X.shape[0]                                                        \n",
    "        rows = range(l*self.count_c)                                                     \n",
    "        cols = list(range(self.count_c))*l \n",
    "        data = [self.c_ft_value]*(l*self.count_c)\n",
    "        c = sparse.csr_matrix((data, (rows, cols)))\n",
    "        # build the probabilities to be multiplied by\n",
    "        p = np.array(self.c_prob).reshape(-1,1)\n",
    "        p = np.tile(p, (X.shape[0], 1))                                       \n",
    "                                                                            \n",
    "        # combine the original features and the possible confounder values    \n",
    "        repeat_indices = np.arange(X.shape[0]).repeat(self.count_c)                      \n",
    "        X = X[repeat_indices]      \n",
    "        Xc = sparse.hstack((X,c)) \n",
    "        proba = self.clf.predict_proba(Xc)\n",
    "        # multiply by P(z) and sum over the confounder for every instance in X\n",
    "        proba *= p\n",
    "        proba = proba.reshape(-1, self.count_c, self.count_y)\n",
    "        proba = np.sum(proba, axis=1) \n",
    "        # normalize   \n",
    "        norm = np.sum(proba, axis=1).reshape(-1,1)\n",
    "        proba /= norm\n",
    "        return proba                                                          \n",
    "                                                                              \n",
    "    def predict(self, X):                                                     \n",
    "        proba = self.predict_proba(X)                                         \n",
    "        return np.array(proba.argmax(axis=1))                                 \n",
    "          \n",
    "    def fit(self, X, y, c):\n",
    "        self.c_prob = np.bincount(c)/len(c) \n",
    "        self.count_c = len(set(c))\n",
    "        self.count_y = len(set(y))\n",
    "\n",
    "        rows = range(len(c))\n",
    "        cols = c\n",
    "        data = [self.c_ft_value]*len(c)\n",
    "        \n",
    "        c_fts = sparse.csr_matrix((data, (rows, cols)))\n",
    "        Xc = sparse.hstack((X, c_fts))\n",
    "                                     \n",
    "        self.clf.fit(Xc, y)\n",
    "        self.coef_ = self.clf.coef_\n",
    "\n"
   ]
  },
  {
   "cell_type": "markdown",
   "metadata": {
    "deletable": true,
    "editable": true
   },
   "source": [
    "### Fit on a parliament, predict on another one\n",
    "\n",
    "In this experiment, we consider three different Canadian parliaments:\n",
    "\n",
    "   - the 36th where the government is liberal and the opposition is conservative;\n",
    "   - the 39th and 40th where the governments are conservative and the oppositions are liberal.\n",
    "\n",
    "We show that when the governing party and the opposition party are swapped between the training and the testing data, then we have a substantial decrease in the prediction accuracy."
   ]
  },
  {
   "cell_type": "code",
   "execution_count": 23,
   "metadata": {
    "collapsed": false,
    "deletable": true,
    "editable": true
   },
   "outputs": [],
   "source": [
    "def fit_pred(clf_model, ds, p_fit, p_pred):\n",
    "    # fit on p_fit\n",
    "    clf = clf_model(ds[p_fit].X, ds[p_fit].y, ds[p_fit].z, None, None)\n",
    "    # predict on p_pred\n",
    "    Y_pred = clf.predict(ds[p_pred].X)\n",
    "    # compute baseline\n",
    "    counts = [np.sum(1-ds[p_pred].y), np.sum(ds[p_pred].y)]\n",
    "    max_idx = np.argmax(counts)\n",
    "    baseline = 1.*counts[max_idx]/np.sum(counts)\n",
    "    # compute metrics\n",
    "    acc = metrics.accuracy_score(ds[p_pred].y, Y_pred)\n",
    "    return baseline, acc\n",
    "#     print(\"\\t- baseline = %.4f\\n\\t- acc = %.4f\\n\\t- f1 = %.4f\" % (baseline, acc, f1))"
   ]
  },
  {
   "cell_type": "code",
   "execution_count": 24,
   "metadata": {
    "collapsed": false,
    "deletable": true,
    "editable": true
   },
   "outputs": [],
   "source": [
    "def plot_matrix(mat, title, labels_x=None, labels_y=None, vmin=None, vmax=None, figsize=None, xlabel='Predict', ylabel='Fit'):\n",
    "    fig = plt.figure(figsize=figsize)\n",
    "    ax = fig.add_subplot(111)\n",
    "    cax = ax.matshow(mat, vmin=vmin, vmax=vmax)\n",
    "    plt.title(title)\n",
    "    fig.colorbar(cax)\n",
    "    if labels_x:\n",
    "        ax.set_xticks(np.arange(len(labels_x)))\n",
    "        ax.set_xticklabels(labels_x)\n",
    "    if labels_y:\n",
    "        ax.set_yticks(np.arange(len(labels_y)))\n",
    "        ax.set_yticklabels(labels_y)\n",
    "    plt.xlabel(xlabel)\n",
    "    plt.ylabel(ylabel)\n",
    "    for y in range(mat.shape[0]):\n",
    "        for x in range(mat.shape[1]):\n",
    "            if mat[y,x] != 0:\n",
    "                plt.text(x, y, '%.4f' % mat[y, x],\n",
    "                         horizontalalignment='center',\n",
    "                         verticalalignment='center',\n",
    "                         fontweight='bold')\n",
    "    plt.show()\n",
    "    \n",
    "\n",
    "def cross_parliement_accuracy(clf_model, ds, parl_number=None):\n",
    "    if parl_number is None:\n",
    "        parl_number = [36,39,40]\n",
    "    accuracy_matrix = np.ones((len(parl_number), len(parl_number)))\n",
    "    baseline_matrix = np.ones((len(parl_number), len(parl_number)))\n",
    "\n",
    "    for i, p_fit in enumerate(parl_number):\n",
    "        for j, p_pred in enumerate(parl_number):\n",
    "            base, acc = fit_pred(clf_model, ds, p_fit, p_pred)\n",
    "            accuracy_matrix[i,j] = acc\n",
    "            baseline_matrix[i,j] = base\n",
    "\n",
    "    return accuracy_matrix"
   ]
  },
  {
   "cell_type": "code",
   "execution_count": 26,
   "metadata": {
    "collapsed": false,
    "deletable": true,
    "editable": true,
    "scrolled": false
   },
   "outputs": [
    {
     "name": "stdout",
     "output_type": "stream",
     "text": [
      "LR - avg accuracy = 0.663\n"
     ]
    },
    {
     "data": {
      "image/png": "[encoded data removed]",
      "text/plain": [
       "<Figure size 432x288 with 2 Axes>"
      ]
     },
     "metadata": {
      "image/png": {
       "height": 269,
       "width": 314
      }
     },
     "output_type": "display_data"
    },
    {
     "name": "stdout",
     "output_type": "stream",
     "text": [
      "BA - avg accuracy = 0.505\n"
     ]
    },
    {
     "data": {
      "image/png": "[encoded data removed]",
      "text/plain": [
       "<Figure size 432x288 with 2 Axes>"
      ]
     },
     "metadata": {
      "image/png": {
       "height": 269,
       "width": 314
      }
     },
     "output_type": "display_data"
    },
    {
     "name": "stdout",
     "output_type": "stream",
     "text": [
      "BAZ10 - avg accuracy = 0.505\n"
     ]
    },
    {
     "data": {
      "image/png": "[encoded data removed]",
      "text/plain": [
       "<Figure size 432x288 with 2 Axes>"
      ]
     },
     "metadata": {
      "image/png": {
       "height": 269,
       "width": 314
      }
     },
     "output_type": "display_data"
    }
   ],
   "source": [
    "models = [('LR', lr), ('BA', backdoor_adjustment), ('BAZ10', backdoor_adjustment_Z10)]\n",
    "parl_nums = [36,39,40]\n",
    "for name, model in models:\n",
    "    accuracy_matrix = cross_parliement_accuracy(model, ds)\n",
    "    print(\"%s - avg accuracy = %.3f\" % (name, np.mean(accuracy_matrix)))\n",
    "    plot_matrix(accuracy_matrix, \"Accuracy\", parl_nums, parl_nums, vmin=0., vmax=1.)"
   ]
  },
  {
   "cell_type": "markdown",
   "metadata": {
    "deletable": true,
    "editable": true
   },
   "source": [
    "### Backdoor Adjustment Experiment\n",
    "\n",
    "In this section, we study the progress of the backdoor adjustment compared to classic methods in the following situation:\n",
    "\n",
    "- we initially only have data from the 36th parliament to train our classifier;\n",
    "- step by step, we add some data from the 39th parliament to our training data and observe the effect on accuracy."
   ]
  },
  {
   "cell_type": "code",
   "execution_count": 52,
   "metadata": {
    "collapsed": false,
    "deletable": true,
    "editable": true
   },
   "outputs": [],
   "source": [
    "from sklearn.cross_validation import KFold\n",
    "\n",
    "def do_canadian_parliament_expt(train_parl, test_parl, models, n_folds=5, init_add=5,\n",
    "                                npoints=25, score=metrics.accuracy_score, rand=None):\n",
    "    X_init = ds[train_parl].X\n",
    "    Y_init = ds[train_parl].y\n",
    "    C_init = ds[train_parl].z\n",
    "    \n",
    "    X_test = ds[test_parl].X\n",
    "    Y_test = ds[test_parl].y\n",
    "    C_test = ds[test_parl].z\n",
    "\n",
    "    scores = defaultdict(list)\n",
    "    additional_data = []\n",
    "    \n",
    "    n_instances = X_test.shape[0]\n",
    "    kf = KFold(n_instances, n_folds=n_folds, shuffle=True, random_state=rand)\n",
    "\n",
    "    shuffled_kf = []\n",
    "    for tr, te in kf:\n",
    "        rand.shuffle(tr)\n",
    "        shuffled_kf.append((tr, te))\n",
    "    \n",
    "    ratio = 1.*(n_folds-1)/n_folds\n",
    "    max_point = int(ratio*len(kf.idxs))\n",
    "    for step in np.linspace(init_add, max_point, npoints):\n",
    "        trial_scores = defaultdict(list)\n",
    "        step = int(step)\n",
    "        print(\"%d additional instances\" % step)\n",
    "        for cvi, (tr, te) in enumerate(shuffled_kf):\n",
    "            x_te = X_test[te]\n",
    "            y_te = Y_test[te]\n",
    "            c_te = C_test[te]\n",
    "            \n",
    "            x_tr = sparse.vstack([X_init, X_test[tr[:step]]])\n",
    "            y_tr = np.hstack([Y_init, Y_test[tr[:step]]])\n",
    "            c_tr = np.hstack([C_init, C_test[tr[:step]]])\n",
    "#             print(x_tr.shape, x_te.shape)\n",
    "            for name, model in models:\n",
    "                clf = model(x_tr, y_tr, c_tr, rand, None)\n",
    "                y_pred = clf.predict(x_te)\n",
    "                acc = score(y_te, y_pred)\n",
    "                trial_scores[name].append(acc)\n",
    "        additional_data.append(step)\n",
    "        for name, model in models:\n",
    "            scores[name].append(trial_scores[name])\n",
    "    return additional_data, scores"
   ]
  },
  {
   "cell_type": "code",
   "execution_count": 33,
   "metadata": {},
   "outputs": [
    {
     "name": "stderr",
     "output_type": "stream",
     "text": [
      "  0%|          | 0/15 [00:00<?, ?it/s]"
     ]
    },
    {
     "name": "stdout",
     "output_type": "stream",
     "text": [
      "5 additional instances\n"
     ]
    },
    {
     "name": "stderr",
     "output_type": "stream",
     "text": [
      "  7%|▋         | 1/15 [00:02<00:32,  2.35s/it]"
     ]
    },
    {
     "name": "stdout",
     "output_type": "stream",
     "text": [
      "18 additional instances\n"
     ]
    },
    {
     "name": "stderr",
     "output_type": "stream",
     "text": [
      " 13%|█▎        | 2/15 [00:04<00:30,  2.33s/it]"
     ]
    },
    {
     "name": "stdout",
     "output_type": "stream",
     "text": [
      "31 additional instances\n"
     ]
    },
    {
     "name": "stderr",
     "output_type": "stream",
     "text": [
      " 20%|██        | 3/15 [00:06<00:27,  2.33s/it]"
     ]
    },
    {
     "name": "stdout",
     "output_type": "stream",
     "text": [
      "44 additional instances\n"
     ]
    },
    {
     "name": "stderr",
     "output_type": "stream",
     "text": [
      " 27%|██▋       | 4/15 [00:09<00:25,  2.36s/it]"
     ]
    },
    {
     "name": "stdout",
     "output_type": "stream",
     "text": [
      "58 additional instances\n"
     ]
    },
    {
     "name": "stderr",
     "output_type": "stream",
     "text": [
      " 33%|███▎      | 5/15 [00:12<00:24,  2.44s/it]"
     ]
    },
    {
     "name": "stdout",
     "output_type": "stream",
     "text": [
      "71 additional instances\n"
     ]
    },
    {
     "name": "stderr",
     "output_type": "stream",
     "text": [
      " 40%|████      | 6/15 [00:14<00:22,  2.55s/it]"
     ]
    },
    {
     "name": "stdout",
     "output_type": "stream",
     "text": [
      "84 additional instances\n"
     ]
    },
    {
     "name": "stderr",
     "output_type": "stream",
     "text": [
      " 47%|████▋     | 7/15 [00:17<00:21,  2.65s/it]"
     ]
    },
    {
     "name": "stdout",
     "output_type": "stream",
     "text": [
      "98 additional instances\n"
     ]
    },
    {
     "name": "stderr",
     "output_type": "stream",
     "text": [
      " 53%|█████▎    | 8/15 [00:20<00:19,  2.78s/it]"
     ]
    },
    {
     "name": "stdout",
     "output_type": "stream",
     "text": [
      "111 additional instances\n"
     ]
    },
    {
     "name": "stderr",
     "output_type": "stream",
     "text": [
      " 60%|██████    | 9/15 [00:23<00:17,  2.91s/it]"
     ]
    },
    {
     "name": "stdout",
     "output_type": "stream",
     "text": [
      "124 additional instances\n"
     ]
    },
    {
     "name": "stderr",
     "output_type": "stream",
     "text": [
      " 67%|██████▋   | 10/15 [00:27<00:15,  3.05s/it]"
     ]
    },
    {
     "name": "stdout",
     "output_type": "stream",
     "text": [
      "137 additional instances\n"
     ]
    },
    {
     "name": "stderr",
     "output_type": "stream",
     "text": [
      " 73%|███████▎  | 11/15 [00:30<00:12,  3.20s/it]"
     ]
    },
    {
     "name": "stdout",
     "output_type": "stream",
     "text": [
      "151 additional instances\n"
     ]
    },
    {
     "name": "stderr",
     "output_type": "stream",
     "text": [
      " 80%|████████  | 12/15 [00:34<00:10,  3.35s/it]"
     ]
    },
    {
     "name": "stdout",
     "output_type": "stream",
     "text": [
      "164 additional instances\n"
     ]
    },
    {
     "name": "stderr",
     "output_type": "stream",
     "text": [
      " 87%|████████▋ | 13/15 [00:38<00:07,  3.51s/it]"
     ]
    },
    {
     "name": "stdout",
     "output_type": "stream",
     "text": [
      "177 additional instances\n"
     ]
    },
    {
     "name": "stderr",
     "output_type": "stream",
     "text": [
      " 93%|█████████▎| 14/15 [00:42<00:03,  3.67s/it]"
     ]
    },
    {
     "name": "stdout",
     "output_type": "stream",
     "text": [
      "191 additional instances\n"
     ]
    },
    {
     "name": "stderr",
     "output_type": "stream",
     "text": [
      "100%|██████████| 15/15 [00:46<00:00,  3.81s/it]\n"
     ]
    }
   ],
   "source": [
    "models = [('LR', lr), ('M', matching), ('BAZ10', backdoor_adjustment),\n",
    "          ('SO', sumout), ('LRS', lr_subsampling)]#, ('BA', backdoor_adjustment)]\n",
    "# models = [('LR', lr), ('BA', backdoor_adjustment), ('LRS', lr_subsampling),('BAZ10', backdoor_adjustment_Z10)]\\\n",
    "# models = []\n",
    "rand=np.random.RandomState(111191)\n",
    "additional_data, scores = do_canadian_parliament_expt(36, 39, models, rand=rand, npoints=15)"
   ]
  },
  {
   "cell_type": "code",
   "execution_count": 34,
   "metadata": {
    "code_folding": [],
    "collapsed": false,
    "deletable": true,
    "editable": true
   },
   "outputs": [],
   "source": [
    "def plot_additional_data_expmt(additional_data, scores, markers, to_plot=None, xlabel=None, ylabel=None, fmt='pdf',\n",
    "                               tofile=None, ncol=None):\n",
    "    fig, ax = plt.subplots()\n",
    "    plt.grid(True)\n",
    "    models = sorted(scores.keys())\n",
    "    for i, model_name in enumerate(models):\n",
    "#         print(model_name)\n",
    "        scores_list = scores[model_name]\n",
    "        if to_plot is None or model_name in to_plot:\n",
    "            mean_scores = [np.mean(x) for x in scores_list]\n",
    "            yerr = [sem(x) for x in scores_list]\n",
    "#             for tup in zip(additional_data, mean_scores, yerr):\n",
    "#                 print(tup)\n",
    "            plt.errorbar(additional_data, mean_scores, yerr=yerr, label=model_name, marker)#, fmt=markers[model_name])\n",
    "    lgd = plt.legend(loc=3, mode='expand', bbox_to_anchor=(0., 1.02, 1., 0.),\n",
    "                     ncol=i+1 if ncol is None else ncol, borderaxespad=0.)\n",
    "    if ylabel is None:\n",
    "        ylabel = params['score'].__name__\n",
    "    ax.set_ylabel(ylabel)\n",
    "    ax.set_xlabel(xlabel)\n",
    "    ax.set_xlim([min(additional_data)-2, max(additional_data)+2])\n",
    "    \n",
    "    ticks = np.linspace(min(additional_data), max(additional_data), len(additional_data))\n",
    "    plt.xticks([int(t) for i, t in enumerate(ticks) if i % 2 == 0])\n",
    "    # put grid behind other elements\n",
    "    [line.set_zorder(3) for line in ax.lines]\n",
    "    if tofile is None:\n",
    "        plt.show()\n",
    "    else:\n",
    "        plt.savefig(tofile, format=fmt, bbox_extra_artists=(lgd,), bbox_inches='tight')"
   ]
  },
  {
   "cell_type": "code",
   "execution_count": 26,
   "metadata": {
    "collapsed": false,
    "deletable": true,
    "editable": true
   },
   "outputs": [],
   "source": [
    "%run models.py\n",
    "%run ba.py\n",
    "%run ba_c_study.py"
   ]
  },
  {
   "cell_type": "code",
   "execution_count": 57,
   "metadata": {
    "collapsed": false,
    "deletable": true,
    "editable": true,
    "scrolled": false
   },
   "outputs": [
    {
     "name": "stdout",
     "output_type": "stream",
     "text": [
      "5 additional instances\n",
      "18 additional instances\n",
      "31 additional instances\n",
      "44 additional instances\n",
      "58 additional instances\n",
      "71 additional instances\n",
      "84 additional instances\n",
      "98 additional instances\n",
      "111 additional instances\n",
      "124 additional instances\n",
      "137 additional instances\n",
      "151 additional instances\n",
      "164 additional instances\n",
      "177 additional instances\n",
      "191 additional instances\n"
     ]
    }
   ],
   "source": [
    "models = [('LR', lr), ('M', matching), ('BAZ10', backdoor_adjustment),\n",
    "          ('SO', sumout), ('LRS', lr_subsampling)]#, ('BA', backdoor_adjustment)]\n",
    "# models = [('LR', lr), ('BA', backdoor_adjustment), ('LRS', lr_subsampling),('BAZ10', backdoor_adjustment_Z10)]\\\n",
    "rand=np.random.RandomState(1234)\n",
    "additional_data, scores = do_canadian_parliament_expt(36, 39, models, rand=rand, npoints=15)"
   ]
  },
  {
   "cell_type": "code",
   "execution_count": 54,
   "metadata": {
    "collapsed": false,
    "deletable": true,
    "editable": true
   },
   "outputs": [],
   "source": [
    "markers = ['o', 's', 'v', 'x', 'd', '*']\n",
    "linestyles = ['-', '-.', ':', '--', '-', '-.']\n",
    "sns.set(context=\"paper\", style=\"whitegrid\", palette=\"deep\", font_scale=1.5)\n",
    "\n",
    "import pandas as pd\n"
   ]
  },
  {
   "cell_type": "code",
   "execution_count": 58,
   "metadata": {
    "collapsed": false,
    "deletable": true,
    "editable": true
   },
   "outputs": [
    {
     "name": "stderr",
     "output_type": "stream",
     "text": [
      "/home/virgile/.conda/envs/py36/lib/python3.6/site-packages/scipy/stats/stats.py:1713: FutureWarning: Using a non-tuple sequence for multidimensional indexing is deprecated; use `arr[tuple(seq)]` instead of `arr[seq]`. In the future this will be interpreted as an array index, `arr[np.array(seq)]`, which will result either in an error or a different result.\n",
      "  return np.add.reduce(sorted[indexer] * weights, axis=axis) / sumval\n"
     ]
    },
    {
     "data": {
      "image/png": "[encoded data removed]",
      "text/plain": [
       "<Figure size 432x288 with 1 Axes>"
      ]
     },
     "metadata": {
      "image/png": {
       "height": 285,
       "width": 398
      }
     },
     "output_type": "display_data"
    }
   ],
   "source": [
    "scores_df = []\n",
    "for sk, sv in scores.items():\n",
    "    for s, d in zip(sv, additional_data):\n",
    "        for i, si in enumerate(s):\n",
    "            scores_df.append({\n",
    "                'x': d,\n",
    "                'score': si,\n",
    "                'trial': i,\n",
    "                'model': sk\n",
    "            })\n",
    "scores_df = pd.DataFrame(scores_df)\n",
    "\n",
    "fig, ax = plt.subplots()\n",
    "sns.pointplot(x='x', y='score', hue='model', data=scores_df, hue_order=np.sort(scores_df.model.unique().tolist() + ['BA']), markers=markers, linestyles=linestyles, ci=68)\n",
    "ax.set_xlabel('Number of additional training instances')\n",
    "ax.set_ylabel('Accuracy')\n",
    "ax.legend(title='Model')\n",
    "xlabels = [_.get_text() for _ in ax.get_xticklabels()]\n",
    "ax.set_xticklabels(xlabels, rotation=90)\n",
    "fig.savefig('canadian_parliament_main_expt.pdf', bbox_inches='tight')"
   ]
  },
  {
   "cell_type": "code",
   "execution_count": 56,
   "metadata": {
    "collapsed": false,
    "deletable": true,
    "editable": true
   },
   "outputs": [
    {
     "ename": "NameError",
     "evalue": "name 'X' is not defined",
     "output_type": "error",
     "traceback": [
      "\u001b[0;31m---------------------------------------------------------------------------\u001b[0m",
      "\u001b[0;31mNameError\u001b[0m                                 Traceback (most recent call last)",
      "\u001b[0;32m<ipython-input-56-c405358a6247>\u001b[0m in \u001b[0;36m<module>\u001b[0;34m()\u001b[0m\n\u001b[1;32m      1\u001b[0m \u001b[0;32mfrom\u001b[0m \u001b[0msklearn\u001b[0m\u001b[0;34m.\u001b[0m\u001b[0mfeature_selection\u001b[0m \u001b[0;32mimport\u001b[0m \u001b[0mchi2\u001b[0m\u001b[0;34m\u001b[0m\u001b[0m\n\u001b[1;32m      2\u001b[0m \u001b[0;34m\u001b[0m\u001b[0m\n\u001b[0;32m----> 3\u001b[0;31m \u001b[0mXstack\u001b[0m \u001b[0;34m=\u001b[0m \u001b[0msparse\u001b[0m\u001b[0;34m.\u001b[0m\u001b[0mvstack\u001b[0m\u001b[0;34m(\u001b[0m\u001b[0;34m[\u001b[0m\u001b[0mX\u001b[0m\u001b[0;34m[\u001b[0m\u001b[0;36m36\u001b[0m\u001b[0;34m]\u001b[0m\u001b[0;34m,\u001b[0m \u001b[0mX\u001b[0m\u001b[0;34m[\u001b[0m\u001b[0;36m39\u001b[0m\u001b[0;34m]\u001b[0m\u001b[0;34m]\u001b[0m\u001b[0;34m)\u001b[0m\u001b[0;34m\u001b[0m\u001b[0m\n\u001b[0m\u001b[1;32m      4\u001b[0m \u001b[0mYstack\u001b[0m \u001b[0;34m=\u001b[0m \u001b[0mnp\u001b[0m\u001b[0;34m.\u001b[0m\u001b[0mhstack\u001b[0m\u001b[0;34m(\u001b[0m\u001b[0;34m[\u001b[0m\u001b[0mY\u001b[0m\u001b[0;34m[\u001b[0m\u001b[0;36m36\u001b[0m\u001b[0;34m]\u001b[0m\u001b[0;34m,\u001b[0m \u001b[0mY\u001b[0m\u001b[0;34m[\u001b[0m\u001b[0;36m39\u001b[0m\u001b[0;34m]\u001b[0m\u001b[0;34m]\u001b[0m\u001b[0;34m)\u001b[0m\u001b[0;34m\u001b[0m\u001b[0m\n\u001b[1;32m      5\u001b[0m \u001b[0mCstack\u001b[0m \u001b[0;34m=\u001b[0m \u001b[0mnp\u001b[0m\u001b[0;34m.\u001b[0m\u001b[0mhstack\u001b[0m\u001b[0;34m(\u001b[0m\u001b[0;34m[\u001b[0m\u001b[0mC\u001b[0m\u001b[0;34m[\u001b[0m\u001b[0;36m36\u001b[0m\u001b[0;34m]\u001b[0m\u001b[0;34m,\u001b[0m \u001b[0mC\u001b[0m\u001b[0;34m[\u001b[0m\u001b[0;36m39\u001b[0m\u001b[0;34m]\u001b[0m\u001b[0;34m]\u001b[0m\u001b[0;34m)\u001b[0m\u001b[0;34m\u001b[0m\u001b[0m\n",
      "\u001b[0;31mNameError\u001b[0m: name 'X' is not defined"
     ]
    }
   ],
   "source": [
    "from sklearn.feature_selection import chi2\n",
    "\n",
    "Xstack = sparse.vstack([X[36], X[39]])\n",
    "Ystack = np.hstack([Y[36], Y[39]])\n",
    "Cstack = np.hstack([C[36], C[39]])\n",
    "x2, pval = chi2(Xstack, Ystack)\n",
    "x2_sort_idx = np.argsort(x2)\n",
    "\n",
    "for ft_idx in x2_sort_idx[::-1][:10]:\n",
    "    vals = tuple([vec[ft_idx] for vec in [feature_names, x2, pval]])\n",
    "    print(\"%20s\\t%5.3f\\t%5.3f\" % vals)"
   ]
  },
  {
   "cell_type": "markdown",
   "metadata": {
    "deletable": true,
    "editable": true
   },
   "source": [
    "### Common top features\n",
    "\n",
    "For this experiment, we fit a logistic regression model on the data from each parliament. We then look at the N features with the largest coefficient in this model for each class (i.e. 'Liberal' and 'Conservative'). This gives us the N most predictive features for each party in every parliament.\n",
    "\n",
    "We then compute a common features score to see how close the predictive vocabularies are for two different parties in two parliaments. Let's note $C_{ijn}$ the coefficients vector for party $i$ in parliament $j$ for the top $n$ features and $F_{ijn}$ the corresponding features vector, then we compute the common features score $S$ as follows:\n",
    "\n",
    "$$\n",
    "S(i,j,r,s,n) = \\sum_{v,w,F_{ijn}[v]=F_{rsn}[w]}{C_{ijn}[v] + C_{rsn}[w]}\n",
    "$$\n",
    "\n",
    "In another words the common features score is the sum of the coefficients for the features that appear in the two parliament/party pairs we want to compare."
   ]
  },
  {
   "cell_type": "code",
   "execution_count": 653,
   "metadata": {
    "collapsed": false,
    "deletable": true,
    "editable": true
   },
   "outputs": [],
   "source": [
    "def get_top_features(clf, p, feature_names, labels, n=10):\n",
    "    clf.fit(X[p],Y[p])\n",
    "    top_n_idx = {}\n",
    "    label2index = {}\n",
    "    top_features_dict = {}\n",
    "    if len(labels) == 2:\n",
    "        label2index[labels[0]] = 0\n",
    "        label2index[labels[1]] = 0\n",
    "        sorted_idx = np.argsort(clf.coef_[0])\n",
    "        top_n_idx[labels[0]] = sorted_idx[::-1][:n]\n",
    "        top_n_idx[labels[1]] = sorted_idx[:n]\n",
    "    else:\n",
    "        for i, l in enumerate(labels):\n",
    "            label2index[l] = i\n",
    "            top_n_idx[l] = np.argsort(clf.coef_[i])[::-1][:n]\n",
    "    for label, top_n in top_n_idx.items():\n",
    "        top_features = feature_names[top_n]\n",
    "        top_coef = clf.coef_[label2index[label]][top_n]\n",
    "        top_features_dict[label] = list(zip(top_features, top_coef))\n",
    "    return top_features_dict        \n",
    "    \n"
   ]
  },
  {
   "cell_type": "code",
   "execution_count": 656,
   "metadata": {
    "collapsed": false,
    "deletable": true,
    "editable": true,
    "scrolled": true
   },
   "outputs": [],
   "source": [
    "top_features = {}\n",
    "for parl in parl_number:\n",
    "    top_features[parl] = get_top_features(svc_clf, parl, feature_names, labels, n=100)\n"
   ]
  },
  {
   "cell_type": "code",
   "execution_count": 817,
   "metadata": {
    "collapsed": false,
    "deletable": true,
    "editable": true
   },
   "outputs": [],
   "source": [
    "labels = le.classes_\n",
    "feature_names = np.array(vec.get_feature_names())\n",
    "\n",
    "def common_features_coef_ratio(parl1, party1, parl2, party2):\n",
    "    top_dict1 = get_top_features(svc_clf, parl1, feature_names, labels, n=n)\n",
    "    fts_p1, coef_p1 = zip(*top_dict1[party1])\n",
    "    fts_p1 = np.array(fts_p1)\n",
    "    coef_p1 = np.abs(coef_p1)\n",
    "\n",
    "    top_dict2 = get_top_features(svc_clf, parl2, feature_names, labels, n=n)\n",
    "    fts_p2, coef_p2 = zip(*top_dict2[party2])\n",
    "    fts_p2 = np.array(fts_p2)\n",
    "    coef_p2 = np.abs(coef_p2)\n",
    "    \n",
    "    common_fts_idx = [(i, int(np.where(fts_p2 == fts_p1[i])[0])) for i in range(fts_p1.shape[0]) if fts_p1[i] in fts_p2]\n",
    "    acc = 0\n",
    "    print(\"Common features between %d%s and %d%s:\" % (parl1, party1[0], parl2, party2[0]))\n",
    "    if not common_fts_idx:\n",
    "        print(\"\\tNone\")\n",
    "    else:\n",
    "        header = \"\\t  %-20s\\t%s\\t%s\\t%s\\t%s\\t%s\\t%s\" % ('feature name', 'idx1', 'coef1', 'idx2', 'coef2', 'dt idx', 'dt coef')\n",
    "        print(header)\n",
    "        print('\\t\\t%s' % ('-'*len(header)))\n",
    "    sum_coefs = np.sum(coef_p1) + np.sum(coef_p2)\n",
    "    for idx1, idx2 in common_fts_idx:\n",
    "        acc += coef_p1[idx1]\n",
    "        acc += coef_p2[idx2]\n",
    "        print(\"\\t- %-20s\\t%d\\t%.3f\\t%d\\t%.3f\\t%d\\t%.3f\" % (fts_p1[idx1], idx1, coef_p1[idx1], idx2, coef_p2[idx2],\n",
    "                                                     np.abs(idx1-idx2), np.abs(coef_p1[idx1]-coef_p2[idx2])))\n",
    "    return acc/sum_coefs"
   ]
  },
  {
   "cell_type": "code",
   "execution_count": 818,
   "metadata": {
    "collapsed": false,
    "deletable": true,
    "editable": true,
    "scrolled": true
   },
   "outputs": [
    {
     "name": "stdout",
     "output_type": "stream",
     "text": [
      "Common features between 36C and 36L:\n",
      "\tNone\n",
      "Common features between 36L and 36C:\n",
      "\tNone\n",
      "Common features between 36C and 39C:\n",
      "\t  feature name        \tidx1\tcoef1\tidx2\tcoef2\tdt idx\tdt coef\n",
      "\t\t------------------------------------------------------------\n",
      "\t- ontario             \t12\t0.471\t5\t0.667\t7\t0.196\n",
      "\t- deficit             \t14\t0.452\t24\t0.433\t10\t0.019\n",
      "\t- nation              \t45\t0.300\t26\t0.422\t19\t0.123\n",
      "Common features between 36C and 39L:\n",
      "\t  feature name        \tidx1\tcoef1\tidx2\tcoef2\tdt idx\tdt coef\n",
      "\t\t------------------------------------------------------------\n",
      "\t- report              \t1\t0.786\t6\t0.653\t5\t0.133\n",
      "\t- standing            \t2\t0.765\t9\t0.647\t7\t0.118\n",
      "\t- languages           \t9\t0.533\t7\t0.652\t2\t0.119\n",
      "\t- proud               \t16\t0.450\t21\t0.496\t5\t0.046\n",
      "\t- benefits            \t25\t0.364\t28\t0.405\t3\t0.040\n",
      "\t- bloc                \t26\t0.363\t4\t0.724\t22\t0.361\n",
      "\t- provides            \t29\t0.362\t18\t0.503\t11\t0.141\n",
      "\t- benefit             \t40\t0.314\t20\t0.497\t20\t0.183\n",
      "\t- committed           \t41\t0.311\t2\t0.784\t39\t0.473\n",
      "\t- measures            \t43\t0.307\t15\t0.547\t28\t0.240\n",
      "Common features between 36L and 39C:\n",
      "\t  feature name        \tidx1\tcoef1\tidx2\tcoef2\tdt idx\tdt coef\n",
      "\t\t------------------------------------------------------------\n",
      "\t- money               \t2\t1.332\t28\t0.413\t26\t0.919\n",
      "\t- problem             \t6\t0.759\t19\t0.517\t13\t0.242\n",
      "\t- really              \t13\t0.606\t27\t0.417\t14\t0.189\n",
      "\t- conservative        \t16\t0.586\t1\t2.618\t15\t2.032\n",
      "\t- little              \t17\t0.581\t31\t0.399\t14\t0.183\n",
      "\t- newfoundland        \t18\t0.579\t12\t0.555\t6\t0.024\n",
      "\t- lot                 \t20\t0.572\t30\t0.402\t10\t0.170\n",
      "\t- instead             \t30\t0.488\t22\t0.467\t8\t0.021\n",
      "\t- justice             \t36\t0.473\t13\t0.545\t23\t0.073\n",
      "Common features between 36L and 39L:\n",
      "\t  feature name        \tidx1\tcoef1\tidx2\tcoef2\tdt idx\tdt coef\n",
      "\t\t------------------------------------------------------------\n",
      "\t- liberal             \t0\t1.907\t11\t0.587\t11\t1.319\n",
      "\t- liberals            \t1\t1.634\t0\t1.765\t1\t0.131\n",
      "\t- victims             \t7\t0.755\t14\t0.559\t7\t0.196\n",
      "\t- farmers             \t8\t0.725\t5\t0.696\t3\t0.029\n",
      "\t- tax                 \t9\t0.701\t3\t0.784\t6\t0.083\n",
      "\t- senate              \t21\t0.556\t13\t0.569\t8\t0.013\n",
      "\t- home                \t23\t0.539\t35\t0.350\t12\t0.189\n",
      "\t- property            \t27\t0.501\t17\t0.515\t10\t0.015\n",
      "\t- parents             \t29\t0.497\t46\t0.321\t17\t0.175\n",
      "\t- alberta             \t42\t0.429\t37\t0.339\t5\t0.090\n",
      "\t- consent             \t43\t0.408\t40\t0.333\t3\t0.075\n",
      "Common features between 36C and 40C:\n",
      "\t  feature name        \tidx1\tcoef1\tidx2\tcoef2\tdt idx\tdt coef\n",
      "\t\t------------------------------------------------------------\n",
      "\t- human               \t5\t0.607\t38\t0.419\t33\t0.189\n",
      "\t- deficit             \t14\t0.452\t2\t1.012\t12\t0.559\n",
      "\t- information         \t24\t0.371\t33\t0.466\t9\t0.095\n",
      "\t- budget              \t28\t0.362\t13\t0.589\t15\t0.227\n",
      "Common features between 36C and 40L:\n",
      "\t  feature name        \tidx1\tcoef1\tidx2\tcoef2\tdt idx\tdt coef\n",
      "\t\t------------------------------------------------------------\n",
      "\t- quebec              \t0\t1.120\t42\t0.314\t42\t0.806\n",
      "\t- report              \t1\t0.786\t35\t0.350\t34\t0.436\n",
      "\t- standing            \t2\t0.765\t11\t0.565\t9\t0.200\n",
      "\t- honour              \t8\t0.553\t22\t0.398\t14\t0.155\n",
      "\t- languages           \t9\t0.533\t9\t0.597\t0\t0.064\n",
      "\t- proud               \t16\t0.450\t3\t0.693\t13\t0.243\n",
      "\t- provided            \t19\t0.412\t48\t0.278\t29\t0.133\n",
      "\t- efforts             \t20\t0.393\t41\t0.315\t21\t0.077\n",
      "\t- commitment          \t22\t0.378\t23\t0.396\t1\t0.019\n",
      "\t- benefits            \t25\t0.364\t45\t0.296\t20\t0.068\n",
      "\t- bloc                \t26\t0.363\t2\t0.738\t24\t0.375\n",
      "\t- investment          \t27\t0.363\t16\t0.518\t11\t0.155\n",
      "\t- initiatives         \t31\t0.356\t43\t0.309\t12\t0.047\n",
      "\t- sector              \t39\t0.319\t39\t0.325\t0\t0.006\n",
      "\t- committed           \t41\t0.311\t17\t0.517\t24\t0.206\n",
      "\t- measures            \t43\t0.307\t12\t0.564\t31\t0.257\n",
      "Common features between 36L and 40C:\n",
      "\t  feature name        \tidx1\tcoef1\tidx2\tcoef2\tdt idx\tdt coef\n",
      "\t\t------------------------------------------------------------\n",
      "\t- money               \t2\t1.332\t3\t1.007\t1\t0.325\n",
      "\t- legislation         \t4\t1.050\t5\t0.710\t1\t0.340\n",
      "\t- problem             \t6\t0.759\t4\t0.765\t2\t0.006\n",
      "\t- says                \t11\t0.621\t42\t0.401\t31\t0.220\n",
      "\t- debate              \t12\t0.613\t19\t0.539\t7\t0.074\n",
      "\t- really              \t13\t0.606\t7\t0.665\t6\t0.059\n",
      "\t- conservative        \t16\t0.586\t1\t1.644\t15\t1.058\n",
      "\t- little              \t17\t0.581\t35\t0.439\t18\t0.142\n",
      "\t- newfoundland        \t18\t0.579\t45\t0.398\t27\t0.181\n",
      "\t- lot                 \t20\t0.572\t24\t0.521\t4\t0.051\n",
      "\t- things              \t22\t0.542\t37\t0.433\t15\t0.109\n",
      "\t- instead             \t30\t0.488\t47\t0.390\t17\t0.098\n",
      "\t- lost                \t49\t0.393\t25\t0.520\t24\t0.127\n",
      "Common features between 36L and 40L:\n",
      "\t  feature name        \tidx1\tcoef1\tidx2\tcoef2\tdt idx\tdt coef\n",
      "\t\t------------------------------------------------------------\n",
      "\t- liberal             \t0\t1.907\t26\t0.395\t26\t1.512\n",
      "\t- liberals            \t1\t1.634\t6\t0.668\t5\t0.966\n",
      "\t- taxes               \t3\t1.216\t5\t0.686\t2\t0.529\n",
      "\t- farmers             \t8\t0.725\t25\t0.395\t17\t0.329\n",
      "\t- tax                 \t9\t0.701\t34\t0.361\t25\t0.339\n",
      "\t- vote                \t19\t0.574\t46\t0.295\t27\t0.279\n",
      "\t- alberta             \t42\t0.429\t29\t0.392\t13\t0.037\n",
      "Common features between 39C and 39L:\n",
      "\tNone\n",
      "Common features between 39L and 39C:\n",
      "\tNone\n",
      "Common features between 39C and 40C:\n",
      "\t  feature name        \tidx1\tcoef1\tidx2\tcoef2\tdt idx\tdt coef\n",
      "\t\t------------------------------------------------------------\n",
      "\t- conservatives       \t0\t3.048\t0\t3.251\t0\t0.203\n",
      "\t- conservative        \t1\t2.618\t1\t1.644\t0\t0.974\n",
      "\t- cut                 \t2\t0.877\t43\t0.400\t41\t0.477\n",
      "\t- deal                \t3\t0.805\t6\t0.689\t3\t0.115\n",
      "\t- cuts                \t4\t0.675\t17\t0.549\t13\t0.126\n",
      "\t- secretary           \t6\t0.648\t34\t0.444\t28\t0.204\n",
      "\t- decision            \t7\t0.640\t18\t0.544\t11\t0.097\n",
      "\t- terms               \t8\t0.618\t29\t0.494\t21\t0.124\n",
      "\t- climate             \t9\t0.593\t23\t0.522\t14\t0.071\n",
      "\t- poverty             \t10\t0.588\t32\t0.473\t22\t0.115\n",
      "\t- newfoundland        \t12\t0.555\t45\t0.398\t33\t0.157\n",
      "\t- parliamentary       \t16\t0.525\t15\t0.572\t1\t0.047\n",
      "\t- immigration         \t17\t0.525\t40\t0.408\t23\t0.117\n",
      "\t- care                \t18\t0.517\t8\t0.656\t10\t0.139\n",
      "\t- problem             \t19\t0.517\t4\t0.765\t15\t0.249\n",
      "\t- instead             \t22\t0.467\t47\t0.390\t25\t0.077\n",
      "\t- deficit             \t24\t0.433\t2\t1.012\t22\t0.579\n",
      "\t- really              \t27\t0.417\t7\t0.665\t20\t0.248\n",
      "\t- money               \t28\t0.413\t3\t1.007\t25\t0.594\n",
      "\t- simply              \t29\t0.410\t44\t0.398\t15\t0.012\n",
      "\t- lot                 \t30\t0.402\t24\t0.521\t6\t0.120\n",
      "\t- little              \t31\t0.399\t35\t0.439\t4\t0.041\n",
      "\t- situation           \t34\t0.360\t11\t0.600\t23\t0.240\n",
      "\t- particular          \t36\t0.343\t10\t0.615\t26\t0.272\n",
      "\t- issues              \t42\t0.329\t12\t0.597\t30\t0.268\n",
      "\t- rights              \t47\t0.314\t16\t0.571\t31\t0.256\n",
      "Common features between 39C and 40L:\n",
      "\tNone\n",
      "Common features between 39L and 40C:\n",
      "\tNone\n",
      "Common features between 39L and 40L:\n",
      "\t  feature name        \tidx1\tcoef1\tidx2\tcoef2\tdt idx\tdt coef\n",
      "\t\t------------------------------------------------------------\n",
      "\t- liberals            \t0\t1.765\t6\t0.668\t6\t1.097\n",
      "\t- afghanistan         \t1\t0.816\t32\t0.365\t31\t0.451\n",
      "\t- committed           \t2\t0.784\t17\t0.517\t15\t0.266\n",
      "\t- tax                 \t3\t0.784\t34\t0.361\t31\t0.422\n",
      "\t- bloc                \t4\t0.724\t2\t0.738\t2\t0.014\n",
      "\t- farmers             \t5\t0.696\t25\t0.395\t20\t0.301\n",
      "\t- report              \t6\t0.653\t35\t0.350\t29\t0.303\n",
      "\t- languages           \t7\t0.652\t9\t0.597\t2\t0.055\n",
      "\t- standing            \t9\t0.647\t11\t0.565\t2\t0.081\n",
      "\t- liberal             \t11\t0.587\t26\t0.395\t15\t0.192\n",
      "\t- ndp                 \t12\t0.583\t8\t0.615\t4\t0.032\n",
      "\t- measures            \t15\t0.547\t12\t0.564\t3\t0.017\n",
      "\t- proud               \t21\t0.496\t3\t0.693\t18\t0.196\n",
      "\t- leader              \t23\t0.468\t1\t0.795\t22\t0.327\n",
      "\t- forces              \t24\t0.458\t15\t0.536\t9\t0.078\n",
      "\t- benefits            \t28\t0.405\t45\t0.296\t17\t0.108\n",
      "\t- offenders           \t31\t0.376\t19\t0.426\t12\t0.050\n",
      "\t- providing           \t32\t0.362\t36\t0.333\t4\t0.028\n",
      "\t- alberta             \t37\t0.339\t29\t0.392\t8\t0.053\n",
      "\t- official            \t43\t0.325\t38\t0.332\t5\t0.006\n",
      "\t- additional          \t47\t0.317\t37\t0.332\t10\t0.016\n",
      "\t- businesses          \t48\t0.315\t4\t0.688\t44\t0.373\n",
      "Common features between 40C and 39L:\n",
      "\tNone\n",
      "Common features between 40L and 39C:\n",
      "\tNone\n",
      "Common features between 40C and 40L:\n",
      "\tNone\n",
      "Common features between 40L and 40C:\n",
      "\tNone\n"
     ]
    }
   ],
   "source": [
    "n = 50\n",
    "common_features_matrix = np.zeros((6,6))\n",
    "for p1_idx, parl1 in enumerate(parl_number):\n",
    "    for p2_idx, parl2 in enumerate(parl_number):\n",
    "        for pa1_idx, party1 in enumerate(le.classes_):\n",
    "            for pa2_idx, party2 in enumerate(le.classes_):\n",
    "                r = p1_idx*2 + pa1_idx\n",
    "                c = p2_idx*2 + pa2_idx\n",
    "                if common_features_matrix[c,r] == 0 and c != r:\n",
    "                    common_features_matrix[r,c] = common_features_coef_ratio(parl1, party1, parl2, party2)\n",
    "# common_features_matrix /= np.sum(common_features_matrix)\n",
    "axis_names = [\"%d%s\" % (parl, party[0]) for parl in parl_number for party in le.classes_]"
   ]
  },
  {
   "cell_type": "code",
   "execution_count": 785,
   "metadata": {
    "collapsed": false,
    "deletable": true,
    "editable": true,
    "scrolled": true
   },
   "outputs": [
    {
     "data": {
      "image/png": "[encoded data removed]",
      "text/plain": [
       "<matplotlib.figure.Figure at 0x7f41ddd89b70>"
      ]
     },
     "metadata": {},
     "output_type": "display_data"
    }
   ],
   "source": [
    "plot_matrix(common_features_matrix, 'Common Features Coef Sum',axis_names, axis_names, figsize=(10, 10),\n",
    "            xlabel = '', ylabel = '')"
   ]
  }
 ],
 "metadata": {
  "kernelspec": {
   "display_name": "Python 3",
   "language": "python",
   "name": "python3"
  },
  "language_info": {
   "codemirror_mode": {
    "name": "ipython",
    "version": 3
   },
   "file_extension": ".py",
   "mimetype": "text/x-python",
   "name": "python",
   "nbconvert_exporter": "python",
   "pygments_lexer": "ipython3",
   "version": "3.6.6"
  },
  "toc": {
   "colors": {
    "hover_highlight": "#DAA520",
    "running_highlight": "#FF0000",
    "selected_highlight": "#FFD700"
   },
   "moveMenuLeft": true,
   "nav_menu": {
    "height": "197px",
    "width": "252px"
   },
   "navigate_menu": true,
   "number_sections": true,
   "sideBar": true,
   "threshold": 4,
   "toc_cell": false,
   "toc_section_display": "block",
   "toc_window_display": true
  }
 },
 "nbformat": 4,
 "nbformat_minor": 2
}
