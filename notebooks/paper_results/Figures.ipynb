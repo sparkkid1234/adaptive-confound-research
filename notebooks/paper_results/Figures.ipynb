{
 "cells": [
  {
   "cell_type": "code",
   "execution_count": 68,
   "metadata": {},
   "outputs": [],
   "source": [
    "import pandas as pd\n",
    "import numpy as np\n",
    "import matplotlib.pyplot as plt\n",
    "import seaborn as sns\n",
    "from glob import glob\n",
    "from sklearn import metrics\n",
    "\n",
    "sns.set(style=\"whitegrid\", context=\"paper\")"
   ]
  },
  {
   "cell_type": "code",
   "execution_count": 3,
   "metadata": {},
   "outputs": [],
   "source": [
    "read_jsonl = lambda p: pd.read_json(p, orient=\"records\", lines=True)"
   ]
  },
  {
   "cell_type": "code",
   "execution_count": 7,
   "metadata": {},
   "outputs": [],
   "source": [
    "dfs = {}\n",
    "for p in glob(\"./*.jsonl\"):\n",
    "    dfs[p] = read_jsonl(p)"
   ]
  },
  {
   "cell_type": "code",
   "execution_count": 11,
   "metadata": {},
   "outputs": [],
   "source": [
    "dfsk = list(dfs.keys())"
   ]
  },
  {
   "cell_type": "code",
   "execution_count": 13,
   "metadata": {},
   "outputs": [],
   "source": [
    "for k in dfsk:\n",
    "    if \"yelp\" in k:\n",
    "        dfs[k][\"dataset\"] = \"Yelp\"\n",
    "    elif \"ylzg\" in k:\n",
    "        dfs[k][\"dataset\"] = \"Tw y=Loc z=Gender\"\n",
    "    elif \"spam\" in k:\n",
    "        dfs[k][\"dataset\"] = \"Spam\""
   ]
  },
  {
   "cell_type": "code",
   "execution_count": 107,
   "metadata": {},
   "outputs": [],
   "source": [
    "df_spam = pd.concat([dfs[_] for _ in dfsk if \"spam\" in _], ignore_index=True)"
   ]
  },
  {
   "cell_type": "code",
   "execution_count": 108,
   "metadata": {},
   "outputs": [
    {
     "data": {
      "text/html": [
       "<div>\n",
       "<style scoped>\n",
       "    .dataframe tbody tr th:only-of-type {\n",
       "        vertical-align: middle;\n",
       "    }\n",
       "\n",
       "    .dataframe tbody tr th {\n",
       "        vertical-align: top;\n",
       "    }\n",
       "\n",
       "    .dataframe thead th {\n",
       "        text-align: right;\n",
       "    }\n",
       "</style>\n",
       "<table border=\"1\" class=\"dataframe\">\n",
       "  <thead>\n",
       "    <tr style=\"text-align: right;\">\n",
       "      <th></th>\n",
       "      <th>model</th>\n",
       "      <th>result</th>\n",
       "      <th>dataset</th>\n",
       "    </tr>\n",
       "  </thead>\n",
       "  <tbody>\n",
       "    <tr>\n",
       "      <th>0</th>\n",
       "      <td>LR</td>\n",
       "      <td>[0.915403422982885, 0.976773160096111, 0.96209...</td>\n",
       "      <td>Spam</td>\n",
       "    </tr>\n",
       "    <tr>\n",
       "      <th>1</th>\n",
       "      <td>ABOW_Z_hat</td>\n",
       "      <td>[0.9479905437352241, 0.9845573711617881, 0.977...</td>\n",
       "      <td>Spam</td>\n",
       "    </tr>\n",
       "    <tr>\n",
       "      <th>2</th>\n",
       "      <td>ABOW_Domain_Adaptation</td>\n",
       "      <td>[0.8794237394300031, 0.9786019971469321, 0.900...</td>\n",
       "      <td>Spam</td>\n",
       "    </tr>\n",
       "    <tr>\n",
       "      <th>3</th>\n",
       "      <td>DNN</td>\n",
       "      <td>[0.9865391427559331, 0.9883126369612851, 0.981...</td>\n",
       "      <td>Spam</td>\n",
       "    </tr>\n",
       "    <tr>\n",
       "      <th>4</th>\n",
       "      <td>LR</td>\n",
       "      <td>[0.8702500000000001, 0.967375, 0.9474166666666...</td>\n",
       "      <td>Spam</td>\n",
       "    </tr>\n",
       "    <tr>\n",
       "      <th>5</th>\n",
       "      <td>ABOW_Z_hat</td>\n",
       "      <td>[0.923, 0.9785, 0.9691666666666661, 0.97106249...</td>\n",
       "      <td>Spam</td>\n",
       "    </tr>\n",
       "    <tr>\n",
       "      <th>6</th>\n",
       "      <td>ABOW_Domain_Adaptation</td>\n",
       "      <td>[0.8075, 0.97, 0.8518333333333331, 0.9269375, ...</td>\n",
       "      <td>Spam</td>\n",
       "    </tr>\n",
       "    <tr>\n",
       "      <th>7</th>\n",
       "      <td>DNN</td>\n",
       "      <td>[0.981, 0.984, 0.975333333333333, 0.972625, 0....</td>\n",
       "      <td>Spam</td>\n",
       "    </tr>\n",
       "  </tbody>\n",
       "</table>\n",
       "</div>"
      ],
      "text/plain": [
       "                    model                                             result  \\\n",
       "0                      LR  [0.915403422982885, 0.976773160096111, 0.96209...   \n",
       "1              ABOW_Z_hat  [0.9479905437352241, 0.9845573711617881, 0.977...   \n",
       "2  ABOW_Domain_Adaptation  [0.8794237394300031, 0.9786019971469321, 0.900...   \n",
       "3                     DNN  [0.9865391427559331, 0.9883126369612851, 0.981...   \n",
       "4                      LR  [0.8702500000000001, 0.967375, 0.9474166666666...   \n",
       "5              ABOW_Z_hat  [0.923, 0.9785, 0.9691666666666661, 0.97106249...   \n",
       "6  ABOW_Domain_Adaptation  [0.8075, 0.97, 0.8518333333333331, 0.9269375, ...   \n",
       "7                     DNN  [0.981, 0.984, 0.975333333333333, 0.972625, 0....   \n",
       "\n",
       "  dataset  \n",
       "0    Spam  \n",
       "1    Spam  \n",
       "2    Spam  \n",
       "3    Spam  \n",
       "4    Spam  \n",
       "5    Spam  \n",
       "6    Spam  \n",
       "7    Spam  "
      ]
     },
     "execution_count": 108,
     "metadata": {},
     "output_type": "execute_result"
    }
   ],
   "source": [
    "df_spam"
   ]
  },
  {
   "cell_type": "code",
   "execution_count": 109,
   "metadata": {},
   "outputs": [],
   "source": [
    "flat_spam_res = []\n",
    "for i, r in df_spam.iterrows():\n",
    "    for res in r.result:\n",
    "        flat_spam_res.append(dict(model=r.model, f1=res, dataset=r.dataset))\n",
    "new_df_spam = pd.DataFrame(flat_spam_res)"
   ]
  },
  {
   "cell_type": "code",
   "execution_count": 110,
   "metadata": {},
   "outputs": [
    {
     "name": "stderr",
     "output_type": "stream",
     "text": [
      "/home/virgile/.conda/envs/py36/lib/python3.6/site-packages/ipykernel_launcher.py:5: FutureWarning: Sorting because non-concatenation axis is not aligned. A future version\n",
      "of pandas will change to not sort by default.\n",
      "\n",
      "To accept the future behavior, pass 'sort=False'.\n",
      "\n",
      "To retain the current behavior and silence the warning, pass 'sort=True'.\n",
      "\n",
      "  \"\"\"\n"
     ]
    }
   ],
   "source": [
    "df = pd.concat([dfs[_] for _ in dfsk if \"spam\" not in _ and \"zhat\" not in _], ignore_index=True)\n",
    "df[\"corr_diff\"] = (df.tr_corr - df.te_corr).abs().round(1)\n",
    "df = df[df.corr_diff > .8]\n",
    "df[\"f1\"] = df.apply(lambda r: metrics.f1_score(r.ytrue, r.ypred), axis=1)\n",
    "df = pd.concat([df, new_df_spam], ignore_index=True)\n",
    "df[\"model\"] = df.model.str.lower()\n",
    "df.model.replace(\"abow_domain_adaptation\", \"abow_da\", inplace=True)\n"
   ]
  },
  {
   "cell_type": "code",
   "execution_count": 111,
   "metadata": {},
   "outputs": [
    {
     "data": {
      "text/plain": [
       "lr             14\n",
       "abow_z_hat     14\n",
       "dnn            14\n",
       "abow_da        14\n",
       "abow_z_true     4\n",
       "Name: model, dtype: int64"
      ]
     },
     "execution_count": 111,
     "metadata": {},
     "output_type": "execute_result"
    }
   ],
   "source": [
    "df.model.value_counts()"
   ]
  },
  {
   "cell_type": "code",
   "execution_count": 70,
   "metadata": {},
   "outputs": [
    {
     "data": {
      "image/png": "[encoded data removed]",
      "text/plain": [
       "<Figure size 720x1080 with 3 Axes>"
      ]
     },
     "metadata": {},
     "output_type": "display_data"
    }
   ],
   "source": [
    "n_datasets = df.dataset.nunique()\n",
    "fig, ax = plt.subplots(n_datasets, sharex=False, figsize=(10, n_datasets*5))\n",
    "order = df.groupby(\"model\").mean().f1.sort_values().index.tolist()\n",
    "\n",
    "for i, dname in enumerate(df.dataset.unique()):\n",
    "    dfi = df[df.dataset==dname]\n",
    "    axi = ax[i] if n_datasets > 1 else ax\n",
    "    sns.boxplot(\"model\", \"f1\", data=dfi, ax=axi, order=order)\n",
    "    axi.set_title(dname)\n",
    "fig.savefig(\"benchmark.pdf\", bboxes_inches=\"tight\")"
   ]
  },
  {
   "cell_type": "code",
   "execution_count": 146,
   "metadata": {},
   "outputs": [],
   "source": [
    "from collections import defaultdict\n",
    "n_datasets = df.dataset.nunique()\n",
    "r = defaultdict(dict)\n",
    "t = \"${:.3f} \\pm {:.3f}$\"\n",
    "for i, dname in enumerate(df.dataset.unique()):\n",
    "    dfi = df[df.dataset==dname]\n",
    "    g = dfi.groupby(\"model\").f1\n",
    "    m = g.mean()\n",
    "    s = g.std()\n",
    "    for k in m.keys():\n",
    "        r[dname][k] = t.format(m[k], s[k])"
   ]
  },
  {
   "cell_type": "code",
   "execution_count": 147,
   "metadata": {},
   "outputs": [],
   "source": [
    "df_latex = pd.DataFrame(r)"
   ]
  },
  {
   "cell_type": "code",
   "execution_count": 148,
   "metadata": {},
   "outputs": [],
   "source": [
    "df_latex.index = [\"Adv+DA\", \"Adv+\\hat{Z}\", \"Adv+Z (Oracle)\", \"DNN\", \"LR\"]"
   ]
  },
  {
   "cell_type": "code",
   "execution_count": 149,
   "metadata": {},
   "outputs": [],
   "source": [
    "from IPython.display import display_latex"
   ]
  },
  {
   "cell_type": "code",
   "execution_count": 150,
   "metadata": {},
   "outputs": [
    {
     "name": "stdout",
     "output_type": "stream",
     "text": [
      "\\begin{tabular}{llll}\n",
      "\\toprule\n",
      "{} &  Tw y=Loc z=Gender &               Yelp &               Spam \\\\\n",
      "\\midrule\n",
      "\\textbf{Adv+DA        } &  $0.627 \\pm 0.003$ &  $0.763 \\pm 0.017$ &  $0.908 \\pm 0.053$ \\\\\n",
      "\\textbf{Adv+\\hat{Z}   } &  $0.726 \\pm 0.042$ &  $0.788 \\pm 0.041$ &  $0.966 \\pm 0.018$ \\\\\n",
      "\\textbf{Adv+Z (Oracle)} &  $0.857 \\pm 0.014$ &  $0.846 \\pm 0.021$ &                NaN \\\\\n",
      "\\textbf{DNN           } &  $0.625 \\pm 0.049$ &  $0.603 \\pm 0.022$ &  $0.980 \\pm 0.005$ \\\\\n",
      "\\textbf{LR            } &  $0.651 \\pm 0.025$ &  $0.709 \\pm 0.011$ &  $0.946 \\pm 0.032$ \\\\\n",
      "\\bottomrule\n",
      "\\end{tabular}\n",
      "\n"
     ]
    }
   ],
   "source": [
    "print(df_latex.to_latex(bold_rows=True, escape=False))"
   ]
  },
  {
   "cell_type": "code",
   "execution_count": 78,
   "metadata": {},
   "outputs": [
    {
     "data": {
      "text/plain": [
       "{'abow_da': 0.9079828542875854,\n",
       " 'abow_z_hat': 0.9663938024154488,\n",
       " 'dnn': 0.9799261201879588,\n",
       " 'lr': 0.9463908117419614}"
      ]
     },
     "execution_count": 78,
     "metadata": {},
     "output_type": "execute_result"
    }
   ],
   "source": [
    "g.mean().to_dict()"
   ]
  },
  {
   "cell_type": "code",
   "execution_count": null,
   "metadata": {},
   "outputs": [],
   "source": []
  }
 ],
 "metadata": {
  "kernelspec": {
   "display_name": "Python 3",
   "language": "python",
   "name": "python3"
  },
  "language_info": {
   "codemirror_mode": {
    "name": "ipython",
    "version": 3
   },
   "file_extension": ".py",
   "mimetype": "text/x-python",
   "name": "python",
   "nbconvert_exporter": "python",
   "pygments_lexer": "ipython3",
   "version": "3.6.6"
  }
 },
 "nbformat": 4,
 "nbformat_minor": 2
}
